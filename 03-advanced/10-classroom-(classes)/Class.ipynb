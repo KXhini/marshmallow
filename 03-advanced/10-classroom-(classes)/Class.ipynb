{
 "cells": [
  {
   "cell_type": "markdown",
   "metadata": {},
   "source": [
    "# Class\n",
    "- We want to create an instance of a dog named Spot that comes from the class dog.\n",
    "- self.name = spot, is like saying \"my name is spot\"\n",
    "- By convention start witha capitol"
   ]
  },
  {
   "cell_type": "markdown",
   "metadata": {},
   "source": [
    "### = Dog Class..."
   ]
  },
  {
   "cell_type": "code",
   "execution_count": 48,
   "metadata": {
    "collapsed": false
   },
   "outputs": [
    {
     "name": "stdout",
     "output_type": "stream",
     "text": [
      "hi\n"
     ]
    }
   ],
   "source": [
    "class Dog(object):\n",
    "\n",
    "    # Attributes / Variables\n",
    "    def __init__(self, name=\"\", height=0, weight=0):\n",
    "        self.name = name\n",
    "        self.height = height\n",
    "        self.weigh = weight\n",
    "\n",
    "    # Methods / Actions\n",
    "    def run(self):\n",
    "        print(\"{} the dog runs\".format(self.name))\n",
    "\n",
    "    def eat(self):\n",
    "        print(\"{} the dog eats\".format(self.name))\n",
    "        \n",
    "    def bark(self):\n",
    "        print(\"{} the dog barks\".format(self.name))\n",
    "\n",
    "        \n",
    "        \n",
    "# The first thing run when we instantiate a new copy.\n",
    "def main():\n",
    "    print('hi')\n",
    "\n",
    "main()\n",
    "        "
   ]
  },
  {
   "cell_type": "markdown",
   "metadata": {},
   "source": [
    "### = Instance..."
   ]
  },
  {
   "cell_type": "code",
   "execution_count": 49,
   "metadata": {
    "collapsed": false
   },
   "outputs": [
    {
     "name": "stdout",
     "output_type": "stream",
     "text": [
      "Spot the dog runs\n"
     ]
    }
   ],
   "source": [
    "spot = Dog(\"Spot\", 50,75)\n",
    "spot.run()"
   ]
  },
  {
   "cell_type": "markdown",
   "metadata": {},
   "source": [
    "### = Getters and Setters...\n",
    "- Getters and setters are used to protect our object from assigning bad fields values or improve output.\n",
    "- This will make it so we only an int above 0"
   ]
  },
  {
   "cell_type": "code",
   "execution_count": 55,
   "metadata": {
    "collapsed": true
   },
   "outputs": [],
   "source": [
    "class Square(object):\n",
    "\n",
    "    # Attributes / Variables\n",
    "    def __init__(self, height=0, width=0):\n",
    "        self.height = height\n",
    "        self.width = width\n",
    "\n",
    "    @property\n",
    "    def height(self):\n",
    "        print(\"Retrieving the Heignt\")\n",
    "        \n",
    "        return self.__height\n",
    "\n",
    "    @height.setter\n",
    "    def height(self, value):\n",
    "        \n",
    "        if value > 0:\n",
    "            self.__height = value\n",
    "        else:\n",
    "            print(\"Please only enter numbers for height\")\n",
    "    \n",
    "    def getArea(self):\n",
    "        return int(self.__height) * int(self.__height)"
   ]
  },
  {
   "cell_type": "markdown",
   "metadata": {},
   "source": [
    "### = Notice the ()\n",
    "- We don' need the () on the method anymore"
   ]
  },
  {
   "cell_type": "code",
   "execution_count": 56,
   "metadata": {
    "collapsed": false
   },
   "outputs": [
    {
     "name": "stdout",
     "output_type": "stream",
     "text": [
      "Retrieving the Heignt\n"
     ]
    },
    {
     "data": {
      "text/plain": [
       "10"
      ]
     },
     "execution_count": 56,
     "metadata": {},
     "output_type": "execute_result"
    }
   ],
   "source": [
    "my_square = Square(10,10)\n",
    "my_square.height"
   ]
  },
  {
   "cell_type": "code",
   "execution_count": 57,
   "metadata": {
    "collapsed": false
   },
   "outputs": [
    {
     "data": {
      "text/plain": [
       "100"
      ]
     },
     "execution_count": 57,
     "metadata": {},
     "output_type": "execute_result"
    }
   ],
   "source": [
    "\n",
    "my_square.getArea()"
   ]
  },
  {
   "cell_type": "code",
   "execution_count": null,
   "metadata": {
    "collapsed": true
   },
   "outputs": [],
   "source": []
  }
 ],
 "metadata": {
  "kernelspec": {
   "display_name": "Python 3",
   "language": "python",
   "name": "python3"
  },
  "language_info": {
   "codemirror_mode": {
    "name": "ipython",
    "version": 3
   },
   "file_extension": ".py",
   "mimetype": "text/x-python",
   "name": "python",
   "nbconvert_exporter": "python",
   "pygments_lexer": "ipython3",
   "version": "3.5.1"
  }
 },
 "nbformat": 4,
 "nbformat_minor": 0
}
