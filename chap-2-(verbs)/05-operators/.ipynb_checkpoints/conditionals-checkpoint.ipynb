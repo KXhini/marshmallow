{
 "cells": [
  {
   "cell_type": "raw",
   "metadata": {},
   "source": [
    "Use if, elif and else to define code to be executed if a specified condition is true:\n",
    "    if patientid == 42113:\n",
    "    print \"The patient ID is 42113\"\n",
    "    elif patientid == 42007:\n",
    "    print \"The patient ID is 42007\"\n",
    "    else:\n",
    "    print \"The patient ID is some other number\"\n",
    "    Python uses indenting to determine which statements are contained "
   ]
  }
 ],
 "metadata": {
  "anaconda-cloud": {},
  "kernelspec": {
   "display_name": "Python [default]",
   "language": "python",
   "name": "python3"
  },
  "language_info": {
   "codemirror_mode": {
    "name": "ipython",
    "version": 3
   },
   "file_extension": ".py",
   "mimetype": "text/x-python",
   "name": "python",
   "nbconvert_exporter": "python",
   "pygments_lexer": "ipython3",
   "version": "3.5.2"
  },
  "toc": {
   "nav_menu": {
    "height": "12px",
    "width": "252px"
   },
   "navigate_menu": true,
   "number_sections": false,
   "sideBar": true,
   "threshold": 4,
   "toc_cell": false,
   "toc_section_display": "block",
   "toc_window_display": true
  }
 },
 "nbformat": 4,
 "nbformat_minor": 1
}
