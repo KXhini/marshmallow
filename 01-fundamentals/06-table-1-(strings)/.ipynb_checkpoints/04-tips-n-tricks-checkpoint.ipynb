{
 "cells": [
  {
   "cell_type": "markdown",
   "metadata": {},
   "source": [
    "### Second Occurrence\n",
    "- Function takes a search string and a target string as parameters. \n",
    "- Return the index position of the second occurrence of the target string."
   ]
  },
  {
   "cell_type": "code",
   "execution_count": 6,
   "metadata": {
    "collapsed": false
   },
   "outputs": [
    {
     "data": {
      "text/plain": [
       "35"
      ]
     },
     "execution_count": 6,
     "metadata": {},
     "output_type": "execute_result"
    }
   ],
   "source": [
    "str_minds = \"Great minds discuss ideas; average minds discuss events; small minds discuss people.\"\n",
    "\n",
    "\n",
    "def find_second(search, target):\n",
    "    first = search.find(target)\n",
    "    second = search.find(target, first+1)\n",
    "    return second\n",
    "\n",
    "find_second(str_minds, 'minds')"
   ]
  },
  {
   "cell_type": "markdown",
   "metadata": {},
   "source": [
    "### Remove Vowels"
   ]
  },
  {
   "cell_type": "code",
   "execution_count": 9,
   "metadata": {
    "collapsed": false
   },
   "outputs": [
    {
     "data": {
      "text/plain": [
       "'Th qck brwn fx jmps vr th lzy dg'"
      ]
     },
     "execution_count": 9,
     "metadata": {},
     "output_type": "execute_result"
    }
   ],
   "source": [
    "def anti_vowel(text):\n",
    "    new_word = ''\n",
    "    for i in text:\n",
    "        if i not in \"aeiouAEIOU\":\n",
    "            new_word += i\n",
    "    return new_word\n",
    "\n",
    "anti_vowel(\"The quick brown fox jumps over the lazy dog\")"
   ]
  },
  {
   "cell_type": "markdown",
   "metadata": {},
   "source": [
    "### Reverse a String"
   ]
  },
  {
   "cell_type": "code",
   "execution_count": 13,
   "metadata": {
    "collapsed": false
   },
   "outputs": [
    {
     "name": "stdout",
     "output_type": "stream",
     "text": [
      "['n']\n",
      "['n', 'a']\n",
      "['n', 'a', 'l']\n",
      "['n', 'a', 'l', 'y']\n",
      "['n', 'a', 'l', 'y', 'd']\n"
     ]
    },
    {
     "data": {
      "text/plain": [
       "'nalyd'"
      ]
     },
     "execution_count": 13,
     "metadata": {},
     "output_type": "execute_result"
    }
   ],
   "source": [
    "def reverse(text):\n",
    "    \n",
    "    count = len(text) - 1\n",
    "    \n",
    "    out = []\n",
    "    while (count > -1):\n",
    "        out.append(text[count])\n",
    "        count -= 1\n",
    "        print(out),\n",
    "\n",
    "    new = ''\n",
    "    return new.join(out)\n",
    "\n",
    "reverse('dylan')"
   ]
  },
  {
   "cell_type": "code",
   "execution_count": null,
   "metadata": {
    "collapsed": true
   },
   "outputs": [],
   "source": []
  }
 ],
 "metadata": {
  "anaconda-cloud": {},
  "kernelspec": {
   "display_name": "Python [default]",
   "language": "python",
   "name": "python3"
  },
  "language_info": {
   "codemirror_mode": {
    "name": "ipython",
    "version": 3
   },
   "file_extension": ".py",
   "mimetype": "text/x-python",
   "name": "python",
   "nbconvert_exporter": "python",
   "pygments_lexer": "ipython3",
   "version": "3.5.2"
  },
  "toc": {
   "nav_menu": {
    "height": "30px",
    "width": "252px"
   },
   "navigate_menu": true,
   "number_sections": false,
   "sideBar": true,
   "threshold": 4,
   "toc_cell": false,
   "toc_section_display": "block",
   "toc_window_display": true
  }
 },
 "nbformat": 4,
 "nbformat_minor": 1
}
