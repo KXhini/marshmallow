{
 "cells": [
  {
   "cell_type": "markdown",
   "metadata": {},
   "source": [
    "### Resources:\n",
    "- [Anaconda Download](https://www.continuum.io/downloads)\n",
    "- [Anaconda Documentation](http://conda.pydata.org/docs/py2or3.html)\n",
    "- [Conda Cheetsheet](http://conda.pydata.org/docs/_downloads/conda-cheatsheet.pdf)\n",
    "- [List of conda packages](https://docs.continuum.io/anaconda/pkg-docs)"
   ]
  },
  {
   "cell_type": "markdown",
   "metadata": {},
   "source": [
    "# Packages"
   ]
  },
  {
   "cell_type": "raw",
   "metadata": {},
   "source": [
    "# List packages\n",
    "$ conda list"
   ]
  },
  {
   "cell_type": "raw",
   "metadata": {},
   "source": [
    "# Install packages\n",
    "$ conda install <package>"
   ]
  },
  {
   "cell_type": "raw",
   "metadata": {},
   "source": [
    "# Update packages\n",
    "$ conda update --<package>\n",
    "$ conda update --all # Updates all packages"
   ]
  },
  {
   "cell_type": "markdown",
   "metadata": {},
   "source": [
    "# Python"
   ]
  },
  {
   "cell_type": "raw",
   "metadata": {},
   "source": [
    "# check current version of Python\n",
    "$ python --version"
   ]
  },
  {
   "cell_type": "raw",
   "metadata": {},
   "source": [
    "# Check to see which versions of Python are available to install\n",
    "$ conda search python"
   ]
  },
  {
   "cell_type": "raw",
   "metadata": {},
   "source": [
    "# Upgrade current branch\n",
    "$ conda update python"
   ]
  },
  {
   "cell_type": "markdown",
   "metadata": {},
   "source": [
    "# Environments"
   ]
  },
  {
   "cell_type": "raw",
   "metadata": {},
   "source": [
    "# List environments (‘*’ indicates current env)\n",
    "$ conda env list"
   ]
  },
  {
   "cell_type": "raw",
   "metadata": {},
   "source": [
    "# Change environments\n",
    "$ source activate <env name>"
   ]
  }
 ],
 "metadata": {
  "anaconda-cloud": {},
  "kernelspec": {
   "display_name": "Python [default]",
   "language": "python",
   "name": "python3"
  },
  "language_info": {
   "codemirror_mode": {
    "name": "ipython",
    "version": 3
   },
   "file_extension": ".py",
   "mimetype": "text/x-python",
   "name": "python",
   "nbconvert_exporter": "python",
   "pygments_lexer": "ipython3",
   "version": "3.5.2"
  },
  "toc": {
   "nav_menu": {
    "height": "84px",
    "width": "252px"
   },
   "navigate_menu": true,
   "number_sections": false,
   "sideBar": true,
   "threshold": 4,
   "toc_cell": false,
   "toc_section_display": "block",
   "toc_window_display": true
  }
 },
 "nbformat": 4,
 "nbformat_minor": 1
}
