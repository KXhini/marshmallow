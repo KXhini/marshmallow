{
 "cells": [
  {
   "cell_type": "markdown",
   "metadata": {},
   "source": [
    "# iPython\n",
    "- Behind the scenes iPython power jupyter notebooks"
   ]
  },
  {
   "cell_type": "raw",
   "metadata": {},
   "source": [
    "# Launch an interactive environment\n",
    "$ python"
   ]
  },
  {
   "cell_type": "raw",
   "metadata": {},
   "source": [
    "# Use python!\n",
    "$ print(\"hello world\")"
   ]
  },
  {
   "cell_type": "raw",
   "metadata": {},
   "source": [
    "# Close an interactive environment\n",
    "$ exit()"
   ]
  },
  {
   "cell_type": "markdown",
   "metadata": {},
   "source": [
    "# Launch\n",
    "- Jupyter notebooks eat up battery life"
   ]
  },
  {
   "cell_type": "raw",
   "metadata": {},
   "source": [
    "# launches jupyter notebook on port localhost:8888\n",
    "$ jupyter notebook"
   ]
  },
  {
   "cell_type": "raw",
   "metadata": {},
   "source": [
    "# Shuts down jupyter when done\n",
    "$ option+c"
   ]
  },
  {
   "cell_type": "markdown",
   "metadata": {},
   "source": [
    "# Extensions\n",
    "- [Install Extensions](https://github.com/ipython-contrib/jupyter_contrib_nbextensions)\n",
    "- Extensions I use are \"Code Font Size\", \"Collapsible Headings\", \"Keyboard Shortcut Editor\", and \"Table of Contents\"."
   ]
  },
  {
   "cell_type": "raw",
   "metadata": {},
   "source": [
    "# Installs jupyter extensions\n",
    "$ conda install -c conda-forge jupyter_contrib_nbextensions"
   ]
  },
  {
   "cell_type": "markdown",
   "metadata": {},
   "source": [
    "# Magics\n",
    "- [Jupyter Notebook Tricks — Part I](https://blog.dominodatalab.com/lesser-known-ways-of-using-notebooks/)"
   ]
  },
  {
   "cell_type": "code",
   "execution_count": null,
   "metadata": {
    "collapsed": true
   },
   "outputs": [],
   "source": []
  }
 ],
 "metadata": {
  "anaconda-cloud": {},
  "kernelspec": {
   "display_name": "Python [default]",
   "language": "python",
   "name": "python3"
  },
  "language_info": {
   "codemirror_mode": {
    "name": "ipython",
    "version": 3
   },
   "file_extension": ".py",
   "mimetype": "text/x-python",
   "name": "python",
   "nbconvert_exporter": "python",
   "pygments_lexer": "ipython3",
   "version": "3.5.2"
  },
  "toc": {
   "nav_menu": {
    "height": "66px",
    "width": "252px"
   },
   "navigate_menu": true,
   "number_sections": false,
   "sideBar": true,
   "threshold": 4,
   "toc_cell": false,
   "toc_section_display": "block",
   "toc_window_display": true
  }
 },
 "nbformat": 4,
 "nbformat_minor": 1
}
