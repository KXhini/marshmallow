{
 "cells": [
  {
   "cell_type": "markdown",
   "metadata": {},
   "source": [
    "# iPython\n",
    "- iPython is a simple interface to work with python."
   ]
  },
  {
   "cell_type": "raw",
   "metadata": {},
   "source": [
    "# Launch an interactive environment\n",
    "$ python"
   ]
  },
  {
   "cell_type": "raw",
   "metadata": {},
   "source": [
    "# Use python!\n",
    "$ print(\"hello world\")"
   ]
  },
  {
   "cell_type": "raw",
   "metadata": {},
   "source": [
    "# Close an interactive environment\n",
    "$ exit()"
   ]
  },
  {
   "cell_type": "markdown",
   "metadata": {},
   "source": [
    "# Jupyter\n",
    "- Behind the scenes it's the IPython kernel that provides computation and communication with the frontend interfaces, like the notebook"
   ]
  },
  {
   "cell_type": "raw",
   "metadata": {},
   "source": [
    "# launches jupyter notebook on port localhost:8888\n",
    "$ jupyter notebook"
   ]
  },
  {
   "cell_type": "raw",
   "metadata": {},
   "source": [
    "# Shuts down jupyter when done\n",
    "$ option+c"
   ]
  },
  {
   "cell_type": "markdown",
   "metadata": {},
   "source": [
    "# Extensions\n",
    "- [Install Extensions](https://github.com/ipython-contrib/jupyter_contrib_nbextensions)\n",
    "- Extensions I use are \"Code Font Size\", \"Collapsible Headings\", \"Keyboard Shortcut Editor\", and \"Table of Contents\"."
   ]
  },
  {
   "cell_type": "raw",
   "metadata": {},
   "source": [
    "# Installs jupyter extensions\n",
    "$ conda install -c conda-forge jupyter_contrib_nbextensions"
   ]
  },
  {
   "cell_type": "markdown",
   "metadata": {},
   "source": [
    "# Magics\n",
    "- [Jupyter Notebook Tricks — Part I](https://blog.dominodatalab.com/lesser-known-ways-of-using-notebooks/)"
   ]
  },
  {
   "cell_type": "code",
   "execution_count": 5,
   "metadata": {
    "collapsed": false
   },
   "outputs": [
    {
     "name": "stdout",
     "output_type": "stream",
     "text": [
      "Hello World\n"
     ]
    }
   ],
   "source": [
    "print(\"Hello World\")"
   ]
  },
  {
   "cell_type": "code",
   "execution_count": 6,
   "metadata": {
    "collapsed": false
   },
   "outputs": [
    {
     "name": "stdout",
     "output_type": "stream",
     "text": [
      "CPU times: user 2 µs, sys: 1 µs, total: 3 µs\n",
      "Wall time: 5.01 µs\n",
      "Hello World\n"
     ]
    }
   ],
   "source": [
    "%time\n",
    "print(\"Hello World\")"
   ]
  },
  {
   "cell_type": "code",
   "execution_count": null,
   "metadata": {
    "collapsed": true
   },
   "outputs": [],
   "source": []
  }
 ],
 "metadata": {
  "anaconda-cloud": {},
  "kernelspec": {
   "display_name": "Python [default]",
   "language": "python",
   "name": "python3"
  },
  "language_info": {
   "codemirror_mode": {
    "name": "ipython",
    "version": 3
   },
   "file_extension": ".py",
   "mimetype": "text/x-python",
   "name": "python",
   "nbconvert_exporter": "python",
   "pygments_lexer": "ipython3",
   "version": "3.5.2"
  },
  "toc": {
   "nav_menu": {
    "height": "66px",
    "width": "252px"
   },
   "navigate_menu": true,
   "number_sections": false,
   "sideBar": true,
   "threshold": 4,
   "toc_cell": false,
   "toc_section_display": "block",
   "toc_window_display": true
  }
 },
 "nbformat": 4,
 "nbformat_minor": 1
}
