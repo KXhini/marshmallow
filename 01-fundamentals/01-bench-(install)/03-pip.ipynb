{
 "cells": [
  {
   "cell_type": "markdown",
   "metadata": {},
   "source": [
    "### Resources:\n",
    "- [PyPI - the Python Package Index](https://pypi.python.org/pypi)\n",
    "- [How to use Pip and PyPI](http://www.pythonforbeginners.com/basics/how-to-use-pip-and-pypi)"
   ]
  },
  {
   "cell_type": "markdown",
   "metadata": {},
   "source": [
    "# Modules"
   ]
  },
  {
   "cell_type": "raw",
   "metadata": {},
   "source": [
    "# List all moduels\n",
    "pip freeze"
   ]
  },
  {
   "cell_type": "raw",
   "metadata": {},
   "source": [
    "# Show information on a specific module\n",
    "$ pip show <module name>"
   ]
  },
  {
   "cell_type": "raw",
   "metadata": {},
   "source": [
    "# Install module\n",
    "$ pip install <module name>"
   ]
  },
  {
   "cell_type": "raw",
   "metadata": {},
   "source": [
    "# Uninstall module\n",
    "$ pip uninstall <module name>"
   ]
  },
  {
   "cell_type": "raw",
   "metadata": {},
   "source": [
    "# upgrade module\n",
    "$ pip install <module name> --upgrade"
   ]
  },
  {
   "cell_type": "markdown",
   "metadata": {},
   "source": [
    "# .bash_profile\n",
    "- By installing anaconda we don't use pip3"
   ]
  },
  {
   "cell_type": "raw",
   "metadata": {},
   "source": [
    "# added by Anaconda3 4.2.0 installer\n",
    "export PATH=\"/Users/dylanjorgensen/anaconda/bin:$PATH\""
   ]
  },
  {
   "cell_type": "code",
   "execution_count": 12,
   "metadata": {
    "collapsed": false
   },
   "outputs": [
    {
     "name": "stdout",
     "output_type": "stream",
     "text": [
      "alabaster==0.7.9\n",
      "anaconda-clean==1.0\n",
      "anaconda-client==1.5.1\n",
      "anaconda-navigator==1.3.1\n",
      "appnope==0.1.0\n",
      "appscript==1.0.1\n",
      "argcomplete==1.0.0\n",
      "astroid==1.4.7\n",
      "astropy==1.2.1\n",
      "Babel==2.3.4\n",
      "backports.shutil-get-terminal-size==1.0.0\n",
      "beautifulsoup4==4.5.1\n",
      "bitarray==0.8.1\n",
      "blaze==0.10.1\n",
      "bokeh==0.12.2\n",
      "boto==2.42.0\n",
      "Bottleneck==1.1.0\n",
      "cffi==1.7.0\n",
      "chest==0.2.3\n",
      "click==6.6\n",
      "cloudpickle==0.2.1\n",
      "clyent==1.2.2\n",
      "colorama==0.3.7\n",
      "conda==4.2.9\n",
      "conda-build==2.0.2\n",
      "configobj==5.0.6\n",
      "contextlib2==0.5.3\n",
      "cryptography==1.5\n",
      "cycler==0.10.0\n",
      "Cython==0.24.1\n",
      "cytoolz==0.8.0\n",
      "dask==0.11.0\n",
      "datashape==0.5.2\n",
      "decorator==4.0.10\n",
      "dill==0.2.5\n",
      "docutils==0.12\n",
      "dynd==0.7.3.dev1\n",
      "et-xmlfile==1.0.1\n",
      "fastcache==1.0.2\n",
      "filelock==2.0.6\n",
      "Flask==0.11.1\n",
      "Flask-Cors==2.1.2\n",
      "gevent==1.1.2\n",
      "greenlet==0.4.10\n",
      "h5py==2.6.0\n",
      "HeapDict==1.0.0\n",
      "idna==2.1\n",
      "imagesize==0.7.1\n",
      "ipykernel==4.5.0\n",
      "ipython==5.1.0\n",
      "ipython-genutils==0.1.0\n",
      "ipywidgets==5.2.2\n",
      "itsdangerous==0.24\n",
      "jdcal==1.2\n",
      "jedi==0.9.0\n",
      "Jinja2==2.8\n",
      "jsonschema==2.5.1\n",
      "jupyter==1.0.0\n",
      "jupyter-client==4.4.0\n",
      "jupyter-console==5.0.0\n",
      "jupyter-contrib-core==0.3.0\n",
      "jupyter-contrib-nbextensions==0.2.1\n",
      "jupyter-core==4.2.0\n",
      "jupyter-nbextensions-configurator==0.2.2\n",
      "lazy-object-proxy==1.2.1\n",
      "llvmlite==0.13.0\n",
      "locket==0.2.0\n",
      "lxml==3.6.4\n",
      "MarkupSafe==0.23\n",
      "matplotlib==1.5.3\n",
      "mistune==0.7.3\n",
      "mpmath==0.19\n",
      "multipledispatch==0.4.8\n",
      "nb-anacondacloud==1.2.0\n",
      "nb-conda==2.0.0\n",
      "nb-conda-kernels==2.0.0\n",
      "nbconvert==4.2.0\n",
      "nbformat==4.1.0\n",
      "nbpresent==3.0.2\n",
      "networkx==1.11\n",
      "nltk==3.2.1\n",
      "nose==1.3.7\n",
      "notebook==4.2.3\n",
      "numba==0.28.1\n",
      "numexpr==2.6.1\n",
      "numpy==1.11.2\n",
      "odo==0.5.0\n",
      "openpyxl==2.3.2\n",
      "pandas==0.19.0\n",
      "partd==0.3.6\n",
      "path.py==0.0.0\n",
      "pathlib2==2.1.0\n",
      "patsy==0.4.1\n",
      "pep8==1.7.0\n",
      "pexpect==4.0.1\n",
      "pickleshare==0.7.4\n",
      "Pillow==3.3.1\n",
      "pkginfo==1.3.2\n",
      "ply==3.9\n",
      "prompt-toolkit==1.0.3\n",
      "protobuf==3.0.0\n",
      "psutil==4.3.1\n",
      "ptyprocess==0.5.1\n",
      "py==1.4.31\n",
      "pyasn1==0.1.9\n",
      "pycosat==0.6.1\n",
      "pycparser==2.14\n",
      "pycrypto==2.6.1\n",
      "pycurl==7.43.0\n",
      "pyflakes==1.3.0\n",
      "Pygments==2.1.3\n",
      "pylint==1.5.4\n",
      "pyOpenSSL==16.0.0\n",
      "pyparsing==2.1.4\n",
      "pytest==2.9.2\n",
      "python-dateutil==2.5.3\n",
      "pytz==2016.7\n",
      "PyYAML==3.12\n",
      "pyzmq==15.4.0\n",
      "QtAwesome==0.3.3\n",
      "qtconsole==4.2.1\n",
      "QtPy==1.1.2\n",
      "redis==2.10.5\n",
      "requests==2.11.1\n",
      "rope-py3k==0.9.4.post1\n",
      "ruamel-yaml===-VERSION\n",
      "scikit-image==0.12.3\n",
      "scikit-learn==0.18\n",
      "scipy==0.18.1\n",
      "simplegeneric==0.8.1\n",
      "singledispatch==3.4.0.3\n",
      "six==1.10.0\n",
      "snowballstemmer==1.2.1\n",
      "sockjs-tornado==1.0.3\n",
      "Sphinx==1.4.6\n",
      "spyder==3.0.0\n",
      "SQLAlchemy==1.0.13\n",
      "statsmodels==0.6.1\n",
      "sympy==1.0\n",
      "tables==3.2.3.1\n",
      "tensorflow==0.11.0rc0\n",
      "terminado==0.6\n",
      "tflearn==0.2.1\n",
      "toolz==0.8.0\n",
      "tornado==4.4.1\n",
      "traitlets==4.3.0\n",
      "unicodecsv==0.14.1\n",
      "wcwidth==0.1.7\n",
      "Werkzeug==0.11.11\n",
      "widgetsnbextension==1.2.6\n",
      "wrapt==1.10.6\n",
      "xlrd==1.0.0\n",
      "XlsxWriter==0.9.3\n",
      "xlwings==0.10.0\n",
      "xlwt==1.1.2\n"
     ]
    }
   ],
   "source": [
    "%%bash\n",
    "\n",
    "# bash magic lets us run terminal commands\n",
    "pip freeze"
   ]
  },
  {
   "cell_type": "code",
   "execution_count": null,
   "metadata": {
    "collapsed": true
   },
   "outputs": [],
   "source": []
  }
 ],
 "metadata": {
  "anaconda-cloud": {},
  "kernelspec": {
   "display_name": "Python [default]",
   "language": "python",
   "name": "python3"
  },
  "language_info": {
   "codemirror_mode": {
    "name": "ipython",
    "version": 3
   },
   "file_extension": ".py",
   "mimetype": "text/x-python",
   "name": "python",
   "nbconvert_exporter": "python",
   "pygments_lexer": "ipython3",
   "version": "3.5.2"
  },
  "toc": {
   "nav_menu": {
    "height": "48px",
    "width": "252px"
   },
   "navigate_menu": true,
   "number_sections": false,
   "sideBar": true,
   "threshold": 4,
   "toc_cell": false,
   "toc_section_display": "block",
   "toc_window_display": true
  }
 },
 "nbformat": 4,
 "nbformat_minor": 1
}
