{
 "cells": [
  {
   "cell_type": "markdown",
   "metadata": {},
   "source": [
    "# UNIX\n",
    "- Max OSX is built on top of the UNIX OS\n",
    "- [Mac Terminal Cheatsheet](https://github.com/0nn0/terminal-mac-cheatsheet)\n",
    "- Use tab to complete folder name\n",
    "- We can drag folder into terminal to display URI ;)"
   ]
  },
  {
   "cell_type": "raw",
   "metadata": {},
   "source": [
    "# Prints our working directory\n",
    "$ pwd"
   ]
  },
  {
   "cell_type": "raw",
   "metadata": {},
   "source": [
    "# Lists the items in our working directory\n",
    "$ ls"
   ]
  },
  {
   "cell_type": "raw",
   "metadata": {},
   "source": [
    "# Create new folder\n",
    "$ mkdir [dir]"
   ]
  },
  {
   "cell_type": "raw",
   "metadata": {},
   "source": [
    "# Moves us into a folder\n",
    "$ cd <folder name>"
   ]
  },
  {
   "cell_type": "raw",
   "metadata": {},
   "source": [
    "# Moves us back out of that folder\n",
    "$ cd .."
   ]
  },
  {
   "cell_type": "raw",
   "metadata": {},
   "source": [
    "# Remove a folder and contents\n",
    "$ rm -r [dir]"
   ]
  },
  {
   "cell_type": "markdown",
   "metadata": {},
   "source": [
    "# Python\n",
    "- [os.path — Common pathname manipulations](https://docs.python.org/3.0/library/os.path.html)\n",
    "- [Doing operating system tasks in python](http://hplgit.github.io/edu/ostasks/ostasks.pdf)"
   ]
  },
  {
   "cell_type": "code",
   "execution_count": 1,
   "metadata": {
    "collapsed": true
   },
   "outputs": [],
   "source": [
    "import os"
   ]
  },
  {
   "cell_type": "code",
   "execution_count": 2,
   "metadata": {
    "collapsed": false,
    "scrolled": true
   },
   "outputs": [
    {
     "data": {
      "text/plain": [
       "'/Users/dylanjorgensen/Google Drive/09 - Code Corner/python/07-git/python/01-fundamentals/01-bench-(install)'"
      ]
     },
     "execution_count": 2,
     "metadata": {},
     "output_type": "execute_result"
    }
   ],
   "source": [
    "# Prints our working directory\n",
    "os.path.realpath(os.getcwd())"
   ]
  },
  {
   "cell_type": "code",
   "execution_count": 10,
   "metadata": {
    "collapsed": false
   },
   "outputs": [
    {
     "data": {
      "text/plain": [
       "['.DS_Store',\n",
       " '.ipynb_checkpoints',\n",
       " '01-anaconda.ipynb',\n",
       " '02-jupyter.ipynb',\n",
       " '03-pip.ipynb',\n",
       " '04-info.ipynb',\n",
       " '05-navigation.ipynb',\n",
       " '97-shell.py',\n",
       " '99-anaconda.txt',\n",
       " '99-pip']"
      ]
     },
     "execution_count": 10,
     "metadata": {},
     "output_type": "execute_result"
    }
   ],
   "source": [
    "# Lists the items in our working directory\n",
    "os.listdir(os.curdir)"
   ]
  },
  {
   "cell_type": "code",
   "execution_count": 11,
   "metadata": {
    "collapsed": false
   },
   "outputs": [],
   "source": [
    "# Create new folder\n",
    "os.mkdir(\"example/\")"
   ]
  },
  {
   "cell_type": "code",
   "execution_count": 12,
   "metadata": {
    "collapsed": false
   },
   "outputs": [],
   "source": [
    "origfolder = os.getcwd() # get name of current folder\n",
    "\n",
    "# Moves us into a folder\n",
    "os.chdir(\"example/\")"
   ]
  },
  {
   "cell_type": "code",
   "execution_count": 13,
   "metadata": {
    "collapsed": false
   },
   "outputs": [
    {
     "data": {
      "text/plain": [
       "[]"
      ]
     },
     "execution_count": 13,
     "metadata": {},
     "output_type": "execute_result"
    }
   ],
   "source": [
    "os.listdir(os.curdir)"
   ]
  },
  {
   "cell_type": "code",
   "execution_count": 14,
   "metadata": {
    "collapsed": false
   },
   "outputs": [],
   "source": [
    "# Moves us back out of that folder\n",
    "os.chdir(origfolder)"
   ]
  },
  {
   "cell_type": "code",
   "execution_count": 15,
   "metadata": {
    "collapsed": true
   },
   "outputs": [],
   "source": [
    "# Remove a folder and contents\n",
    "os.rmdir(\"example/\")"
   ]
  },
  {
   "cell_type": "code",
   "execution_count": 16,
   "metadata": {
    "collapsed": false
   },
   "outputs": [
    {
     "data": {
      "text/plain": [
       "['.DS_Store',\n",
       " '.ipynb_checkpoints',\n",
       " '01-anaconda.ipynb',\n",
       " '02-jupyter.ipynb',\n",
       " '03-pip.ipynb',\n",
       " '04-info.ipynb',\n",
       " '05-navigation.ipynb',\n",
       " '97-shell.py',\n",
       " '99-anaconda.txt',\n",
       " '99-pip']"
      ]
     },
     "execution_count": 16,
     "metadata": {},
     "output_type": "execute_result"
    }
   ],
   "source": [
    "os.listdir(os.curdir)"
   ]
  }
 ],
 "metadata": {
  "kernelspec": {
   "display_name": "Python [default]",
   "language": "python",
   "name": "python3"
  },
  "language_info": {
   "codemirror_mode": {
    "name": "ipython",
    "version": 3
   },
   "file_extension": ".py",
   "mimetype": "text/x-python",
   "name": "python",
   "nbconvert_exporter": "python",
   "pygments_lexer": "ipython3",
   "version": "3.5.2"
  },
  "toc": {
   "nav_menu": {
    "height": "48px",
    "width": "252px"
   },
   "navigate_menu": true,
   "number_sections": false,
   "sideBar": true,
   "threshold": 4,
   "toc_cell": false,
   "toc_section_display": "block",
   "toc_window_display": true
  }
 },
 "nbformat": 4,
 "nbformat_minor": 1
}
