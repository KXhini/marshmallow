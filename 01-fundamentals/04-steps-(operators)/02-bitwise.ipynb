{
 "cells": [
  {
   "cell_type": "markdown",
   "metadata": {},
   "source": [
    "Tester"
   ]
  },
  {
   "cell_type": "code",
   "execution_count": 1,
   "metadata": {},
   "outputs": [
    {
     "name": "stdout",
     "output_type": "stream",
     "text": [
      "5\n10\n0\n13\n38\n-89\n"
     ]
    }
   ],
   "source": [
    "print 5 >> 0  # Right Shift\n",
    "print 5 << 1  # Left Shift\n",
    "print 8 & 5   # Bitwise AND\n",
    "print 9 | 4   # Bitwise OR\n",
    "print 12 ^ 42 # Bitwise XOR\n",
    "print ~88     # Bitwise NOT"
   ]
  },
  {
   "cell_type": "markdown",
   "metadata": {},
   "source": [
    "In Python, you can write numbers in binary format by starting the number with 0b. When doing so, the numbers can be operated on like any other number!"
   ]
  },
  {
   "cell_type": "code",
   "execution_count": 3,
   "metadata": {},
   "outputs": [
    {
     "name": "stdout",
     "output_type": "stream",
     "text": [
      "1 2 3 4 5 6 7\n******\n4\n9\n"
     ]
    }
   ],
   "source": [
    "print 0b1,    #1\n",
    "print 0b10,   #2\n",
    "print 0b11,   #3\n",
    "print 0b100,  #4\n",
    "print 0b101,  #5\n",
    "print 0b110,  #6\n",
    "print 0b111   #7"
   ]
  },
  {
   "cell_type": "markdown",
   "metadata": {},
   "source": [
    "When doing so, the numbers can be operated on like any other number!"
   ]
  },
  {
   "cell_type": "code",
   "execution_count": null,
   "metadata": {},
   "outputs": [],
   "source": [
    "print 0b1 + 0b11\n",
    "print 0b11 * 0b11"
   ]
  },
  {
   "cell_type": "markdown",
   "metadata": {},
   "source": [
    "bin() takes an integer as input and returns the binary representation of that integer in a string."
   ]
  },
  {
   "cell_type": "code",
   "execution_count": 4,
   "metadata": {},
   "outputs": [
    {
     "name": "stdout",
     "output_type": "stream",
     "text": [
      "5\n0b101\n4\n0b100\n3\n0b11\n2\n0b10\n"
     ]
    }
   ],
   "source": [
    "i = 5\n",
    "while i >= 2:\n",
    "    print i\n",
    "    print bin(i)\n",
    "    i -= 1"
   ]
  },
  {
   "cell_type": "markdown",
   "metadata": {},
   "source": [
    "When the int(\"110\", 2) function is given a string containing a number and the base that number is in, the function will return the value of that number converted to base ten."
   ]
  },
  {
   "cell_type": "code",
   "execution_count": 7,
   "metadata": {},
   "outputs": [
    {
     "name": "stdout",
     "output_type": "stream",
     "text": [
      "1\n2\n7\n4\n5\n201\n"
     ]
    }
   ],
   "source": [
    "print int(\"1\",2)\n",
    "print int(\"10\",2)\n",
    "print int(\"111\",2)\n",
    "print int(\"0b100\",2)\n",
    "print int(bin(5),2)\n",
    "# Print out the decimal equivalent of the binary 11001001.\n",
    "print int(\"0b11001001\", 2)"
   ]
  }
 ],
 "metadata": {},
 "nbformat": 4,
 "nbformat_minor": 0
}