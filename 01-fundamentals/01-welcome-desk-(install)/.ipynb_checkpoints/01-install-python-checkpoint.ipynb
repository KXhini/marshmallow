{
 "cells": [
  {
   "cell_type": "markdown",
   "metadata": {},
   "source": [
    "# Install Python (Using Anaconda)\n",
    "- [Video Walkthrough](https://www.youtube.com/playlist?list=PLBoE3Q93ydGUH737ux-vWClglWg0PTNJO)"
   ]
  },
  {
   "cell_type": "markdown",
   "metadata": {},
   "source": [
    "### Resources:\n",
    "- [Anaconda Documentation](http://conda.pydata.org/docs/py2or3.html)\n",
    "- [Conda Cheetsheet](http://conda.pydata.org/docs/_downloads/conda-cheatsheet.pdf)\n",
    "- [List of conda packages](https://docs.continuum.io/anaconda/pkg-docs)\n",
    "- [github.com/dylanjorgensen/python](https://github.com/dylanjorgensen/python)"
   ]
  },
  {
   "cell_type": "markdown",
   "metadata": {
    "heading_collapsed": true
   },
   "source": [
    "# Anaconda\n",
    "- [Anaconda Download](https://www.continuum.io/downloads)\n",
    "- Anaconda is a suite of tools, and packages that **contains python** inside of it.\n",
    "- It's aim is to simply simplify package management and deployment scientific computing."
   ]
  },
  {
   "cell_type": "markdown",
   "metadata": {},
   "source": [
    "# Version\n",
    "- On Mac open up the terminal app and enter the commands after the dollar sign."
   ]
  },
  {
   "cell_type": "code",
   "execution_count": null,
   "metadata": {
    "collapsed": true
   },
   "outputs": [],
   "source": [
    "# check current version of Python\n",
    "# TERMINAL $ python --version"
   ]
  },
  {
   "cell_type": "code",
   "execution_count": null,
   "metadata": {
    "collapsed": true
   },
   "outputs": [],
   "source": [
    "# Check to see which versions of Python are available to install\n",
    "# TERMINAL $ conda search python"
   ]
  },
  {
   "cell_type": "code",
   "execution_count": null,
   "metadata": {
    "collapsed": true
   },
   "outputs": [],
   "source": [
    "# Upgrade current branch\n",
    "# TERMINAL $ conda update python"
   ]
  },
  {
   "cell_type": "markdown",
   "metadata": {},
   "source": [
    "# Packages\n",
    "- Packages (AKA Modules) are extensions that give the core python language additional functionality."
   ]
  },
  {
   "cell_type": "code",
   "execution_count": null,
   "metadata": {
    "collapsed": true
   },
   "outputs": [],
   "source": [
    "# List packages\n",
    "# TERMINAL $ conda list"
   ]
  },
  {
   "cell_type": "code",
   "execution_count": null,
   "metadata": {
    "collapsed": true
   },
   "outputs": [],
   "source": [
    "# Install packages\n",
    "# TERMINAL $ conda install <package>"
   ]
  },
  {
   "cell_type": "code",
   "execution_count": null,
   "metadata": {
    "collapsed": true
   },
   "outputs": [],
   "source": [
    "# Update packages\n",
    "# TERMINAL $ conda update --<package>\n",
    "# TERMINAL $ conda update --all # Updates all packages"
   ]
  },
  {
   "cell_type": "markdown",
   "metadata": {},
   "source": [
    "# Environments\n",
    "- Environments allow us to use multiple versions of python or configuration of packages on the same machine. "
   ]
  },
  {
   "cell_type": "code",
   "execution_count": null,
   "metadata": {
    "collapsed": true
   },
   "outputs": [],
   "source": [
    "# List environments (‘*’ indicates current env)\n",
    "# TERMINAL $ conda env list"
   ]
  },
  {
   "cell_type": "code",
   "execution_count": null,
   "metadata": {
    "collapsed": true
   },
   "outputs": [],
   "source": [
    "# Change environments\n",
    "# TERMINAL $ source activate <env name>"
   ]
  },
  {
   "cell_type": "code",
   "execution_count": null,
   "metadata": {
    "collapsed": true
   },
   "outputs": [],
   "source": [
    "# Create a Python 2.7 environment\n",
    "# TERMINAL $ conda create -n <custom name> python=2.7 anaconda"
   ]
  },
  {
   "cell_type": "code",
   "execution_count": null,
   "metadata": {
    "collapsed": true
   },
   "outputs": [],
   "source": [
    "# Create a Python 3.5 environment\n",
    "# TERMINAL $ conda create -n <custom name> python=3.5 anaconda"
   ]
  },
  {
   "cell_type": "code",
   "execution_count": null,
   "metadata": {
    "collapsed": true
   },
   "outputs": [],
   "source": [
    "# Remove an environment\n",
    "# TERMINAL $ conda remove --name <custom name> --all"
   ]
  }
 ],
 "metadata": {
  "anaconda-cloud": {},
  "kernelspec": {
   "display_name": "Python [default]",
   "language": "python",
   "name": "python3"
  },
  "language_info": {
   "codemirror_mode": {
    "name": "ipython",
    "version": 3
   },
   "file_extension": ".py",
   "mimetype": "text/x-python",
   "name": "python",
   "nbconvert_exporter": "python",
   "pygments_lexer": "ipython3",
   "version": "3.5.2"
  },
  "toc": {
   "nav_menu": {
    "height": "84px",
    "width": "252px"
   },
   "navigate_menu": true,
   "number_sections": false,
   "sideBar": true,
   "threshold": 4,
   "toc_cell": false,
   "toc_section_display": "block",
   "toc_window_display": true
  }
 },
 "nbformat": 4,
 "nbformat_minor": 1
}
