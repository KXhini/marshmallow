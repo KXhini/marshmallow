{
 "cells": [
  {
   "cell_type": "markdown",
   "metadata": {
    "heading_collapsed": true
   },
   "source": [
    "#### Resources"
   ]
  },
  {
   "cell_type": "markdown",
   "metadata": {
    "hidden": true
   },
   "source": [
    "Follow Along\n",
    "- [Download Code - GitHub.com](https://github.com/dylanjorgensen/python)\n",
    "- [Watch Full Course - Udemy.com](www.udemy.com/course/1007826)\n",
    "- [Mnemonic eBook - DylanJorgensen.com](https://docs.google.com/document/d/1HOTSYAwUFwIagYbJfcsV3fKBnwdyyRmKGOsmUxzXui4/edit#heading=h.pq8kez3gce52)"
   ]
  },
  {
   "cell_type": "markdown",
   "metadata": {
    "hidden": true
   },
   "source": [
    "Read More\n",
    "- [Preparing for a Python Interview](https://www.youtube.com/watch?v=DEwgZNC-KyE&feature=youtu.be&t=15m5s)\n",
    "- [Great Template With Layers](http://jtauber.com/2006/05/templates.html)\n",
    "- [Stake Exchange](http://softwareengineering.stackexchange.com/questions/206860/why-are-methods-considered-the-class-attributes-in-python)\n",
    "- [Stack Overflow](http://stackoverflow.com/questions/17000450/difference-between-calling-a-method-and-accessing-an-attribute)\n",
    "- [PDF](http://www.cafepy.com/article/python_attributes_and_methods/python_attributes_and_methods.html)\n",
    "- [Property vs Attribute](http://stackoverflow.com/questions/7374748/whats-the-difference-between-a-python-property-and-attribute)\n",
    "- [Learn Python The Hard Way](https://learnpythonthehardway.org/book/ex40.html)"
   ]
  },
  {
   "cell_type": "markdown",
   "metadata": {
    "heading_collapsed": true
   },
   "source": [
    "# Basics"
   ]
  },
  {
   "cell_type": "code",
   "execution_count": 5,
   "metadata": {
    "collapsed": true,
    "hidden": true
   },
   "outputs": [],
   "source": [
    "class Human(object):\n",
    "    \n",
    "    # Attributes\n",
    "    def __init__(self, name, gender):\n",
    "        self.name = name\n",
    "        self.gender = gender\n",
    "        \n",
    "    # Method 1\n",
    "    def speak_name(self):\n",
    "        print(\"My name is\", self.name)\n",
    "    \n",
    "    # Method 2\n",
    "    def speak_text(self, text):\n",
    "        print(self.gender, \"Says:\", text)"
   ]
  },
  {
   "cell_type": "markdown",
   "metadata": {
    "heading_collapsed": true,
    "hidden": true
   },
   "source": [
    "### Private"
   ]
  },
  {
   "cell_type": "code",
   "execution_count": null,
   "metadata": {
    "collapsed": true,
    "hidden": true
   },
   "outputs": [],
   "source": [
    "# Why do we have a __init__ at the top?"
   ]
  },
  {
   "cell_type": "markdown",
   "metadata": {
    "heading_collapsed": true,
    "hidden": true
   },
   "source": [
    "### Self"
   ]
  },
  {
   "cell_type": "code",
   "execution_count": null,
   "metadata": {
    "collapsed": true,
    "hidden": true
   },
   "outputs": [],
   "source": [
    "# Why do we pass self around?\n",
    "# Because it takes on the name\n",
    "will = Human(\"Pat\", \"Male\")"
   ]
  },
  {
   "cell_type": "markdown",
   "metadata": {},
   "source": [
    "# Instance"
   ]
  },
  {
   "cell_type": "code",
   "execution_count": 4,
   "metadata": {
    "collapsed": true
   },
   "outputs": [],
   "source": [
    "class Human(object):\n",
    "    \n",
    "    # Notice the instance requres two of these arguments\n",
    "    # The first method __init__() is a special method, which is called the constructor\n",
    "    def __init__(self, name, gender):\n",
    "        \n",
    "        # self.whatever needs to match up with the __init__ parameters\n",
    "        self.name = name\n",
    "        self.gender = gender\n",
    "        \n",
    "    # Make a method\n",
    "    def speak_name(self):\n",
    "        print(\"My name is\", self.name)\n",
    "        \n",
    "    def speak_text(self, text):\n",
    "        print(self.gender, \"Says:\", text)"
   ]
  },
  {
   "cell_type": "code",
   "execution_count": 5,
   "metadata": {
    "collapsed": false
   },
   "outputs": [
    {
     "data": {
      "text/plain": [
       "<__main__.Human at 0x106c27dd8>"
      ]
     },
     "execution_count": 5,
     "metadata": {},
     "output_type": "execute_result"
    }
   ],
   "source": [
    "dan = Human(\"Dan\", \"Male\")\n",
    "\n",
    "dan"
   ]
  },
  {
   "cell_type": "markdown",
   "metadata": {
    "heading_collapsed": true
   },
   "source": [
    "### Methods/Behaviors"
   ]
  },
  {
   "cell_type": "code",
   "execution_count": 9,
   "metadata": {
    "collapsed": false,
    "hidden": true
   },
   "outputs": [
    {
     "name": "stdout",
     "output_type": "stream",
     "text": [
      "My name is Dan\n"
     ]
    }
   ],
   "source": [
    "dan.speak_name()"
   ]
  },
  {
   "cell_type": "code",
   "execution_count": 10,
   "metadata": {
    "collapsed": false,
    "hidden": true
   },
   "outputs": [
    {
     "data": {
      "text/plain": [
       "method"
      ]
     },
     "execution_count": 10,
     "metadata": {},
     "output_type": "execute_result"
    }
   ],
   "source": [
    "type(dan.speak_name)"
   ]
  },
  {
   "cell_type": "code",
   "execution_count": 11,
   "metadata": {
    "collapsed": false,
    "hidden": true,
    "scrolled": false
   },
   "outputs": [
    {
     "name": "stdout",
     "output_type": "stream",
     "text": [
      "Male Says: This is new text\n"
     ]
    }
   ],
   "source": [
    "dan.speak_text(\"This is new text\")"
   ]
  },
  {
   "cell_type": "markdown",
   "metadata": {
    "heading_collapsed": true
   },
   "source": [
    "### Variables/Attribute"
   ]
  },
  {
   "cell_type": "code",
   "execution_count": 6,
   "metadata": {
    "collapsed": false,
    "hidden": true
   },
   "outputs": [
    {
     "data": {
      "text/plain": [
       "'Dan'"
      ]
     },
     "execution_count": 6,
     "metadata": {},
     "output_type": "execute_result"
    }
   ],
   "source": [
    "dan.name"
   ]
  },
  {
   "cell_type": "code",
   "execution_count": 7,
   "metadata": {
    "collapsed": false,
    "hidden": true
   },
   "outputs": [
    {
     "data": {
      "text/plain": [
       "str"
      ]
     },
     "execution_count": 7,
     "metadata": {},
     "output_type": "execute_result"
    }
   ],
   "source": [
    "# Attribute can be any type\n",
    "type(dan.name)"
   ]
  },
  {
   "cell_type": "code",
   "execution_count": 8,
   "metadata": {
    "collapsed": false,
    "hidden": true
   },
   "outputs": [
    {
     "data": {
      "text/plain": [
       "'Male'"
      ]
     },
     "execution_count": 8,
     "metadata": {},
     "output_type": "execute_result"
    }
   ],
   "source": [
    "dan.gender"
   ]
  },
  {
   "cell_type": "markdown",
   "metadata": {},
   "source": [
    "### Properties are Attributes"
   ]
  },
  {
   "cell_type": "markdown",
   "metadata": {},
   "source": [
    "- Properties are a special kind of attribute\n",
    "- When you call a method, you look up the attribute (a getattr() operation) and then call the result:\n",
    "- Calling has two steps"
   ]
  },
  {
   "cell_type": "code",
   "execution_count": null,
   "metadata": {
    "collapsed": true
   },
   "outputs": [],
   "source": [
    "# spam = SomeObject()\n",
    "# print(spam.eggs)"
   ]
  },
  {
   "cell_type": "markdown",
   "metadata": {},
   "source": [
    "- it looks up eggs in spam, and then examines eggs to see if it has one of the following 3 methods"
   ]
  },
  {
   "cell_type": "code",
   "execution_count": null,
   "metadata": {
    "collapsed": true
   },
   "outputs": [],
   "source": [
    "# __get__, __set__, or __delete__"
   ]
  },
  {
   "cell_type": "markdown",
   "metadata": {},
   "source": [
    "- if it does, it's a property. \n",
    "- If it is a property, instead of just returning the eggs object (as it would for any other attribute) it will call the __get__ method (since we were doing lookup) and return whatever that method returns."
   ]
  },
  {
   "cell_type": "code",
   "execution_count": null,
   "metadata": {
    "collapsed": true
   },
   "outputs": [],
   "source": [
    "# --- Normal Methods --- #\n",
    "# Notice that I call it with my (pair of) arguments, but I defined it with three parameters.\n",
    "# The dispatch inserts the reference to \"self\" into the argument list.\n",
    "\n",
    "class FooClass(object):\n",
    "    def foo(self,a,b):\n",
    "        self.contents = a-b\n",
    "        return self.contents\n",
    "\n",
    "\n",
    "instance = FooClass()\n",
    "print instance.foo(1,2)"
   ]
  },
  {
   "cell_type": "code",
   "execution_count": null,
   "metadata": {
    "collapsed": true
   },
   "outputs": [],
   "source": [
    "# --- Static Methods --- #\n",
    "# Note that we don't need to instantiate a Bar() object to access the .foo() static method.\n",
    "# Static methods are basically just a way to organize function into the name space\n",
    "\n",
    "\n",
    "class Bar(object):\n",
    "    @staticmethod\n",
    "    def foo(a,b):\n",
    "        return a+b\n",
    "\n",
    "print('static method', Bar.foo(1,2))"
   ]
  },
  {
   "cell_type": "markdown",
   "metadata": {},
   "source": [
    "# Examples"
   ]
  },
  {
   "cell_type": "markdown",
   "metadata": {},
   "source": [
    "### Iterators"
   ]
  },
  {
   "cell_type": "markdown",
   "metadata": {},
   "source": [
    "- http://anandology.com/python-practice-book/iterators.html"
   ]
  },
  {
   "cell_type": "code",
   "execution_count": null,
   "metadata": {
    "collapsed": true
   },
   "outputs": [],
   "source": [
    "# http://anandology.com/python-practice-book/iterators.html\n",
    "# The __iter__ method is what makes an object iterable. Behind the scenes, the iter function calls __iter__ method on the given object.\n",
    "# The return value of __iter__ is an iterator. It should have a next method and raise StopIteration when there are no more elements.\n",
    "\n",
    "\n",
    "# Iterators are implemented as classes. Here is an iterator that works like built-in xrange function.\n",
    "\n",
    "# To make a class iterable requires both...\n",
    "#     def __iter__(self):\n",
    "#     def __next__(self):\n",
    "\n",
    "class YRange:\n",
    "    def __init__(self, n):\n",
    "        self.i = 0\n",
    "        self.n = n\n",
    "\n",
    "    def __iter__(self):\n",
    "        return self\n",
    "\n",
    "    def next(self):\n",
    "        if self.i < self.n:\n",
    "            i = self.i\n",
    "            self.i += 1\n",
    "            return i\n",
    "        else:\n",
    "            raise StopIteration()\n",
    "\n",
    "\n",
    "\n",
    "y = YRange(3)\n",
    "\n",
    "print y.next()\n",
    "print y.next()\n",
    "\n",
    "\n",
    "# Many built-in functions accept iterators as arguments.\n",
    "list(YRange(5)) # [0, 1, 2, 3, 4]\n",
    "sum(YRange(5)) # 10"
   ]
  },
  {
   "cell_type": "markdown",
   "metadata": {},
   "source": [
    "### Abstract"
   ]
  },
  {
   "cell_type": "markdown",
   "metadata": {},
   "source": [
    "- https://www.youtube.com/watch?v=rOaRMW8jYOo&feature=youtu.be\n",
    "- Abstract class to give you a way to protect your base Clash by making it an intangible \n",
    "You can also Force certain methods and functions to keep consistency throughout your coat. \n"
   ]
  },
  {
   "cell_type": "code",
   "execution_count": null,
   "metadata": {
    "collapsed": true
   },
   "outputs": [],
   "source": []
  }
 ],
 "metadata": {
  "anaconda-cloud": {},
  "kernelspec": {
   "display_name": "Python [default]",
   "language": "python",
   "name": "python3"
  },
  "language_info": {
   "codemirror_mode": {
    "name": "ipython",
    "version": 3
   },
   "file_extension": ".py",
   "mimetype": "text/x-python",
   "name": "python",
   "nbconvert_exporter": "python",
   "pygments_lexer": "ipython3",
   "version": "3.5.2"
  },
  "toc": {
   "nav_menu": {
    "height": "12px",
    "width": "252px"
   },
   "navigate_menu": true,
   "number_sections": false,
   "sideBar": true,
   "threshold": 4,
   "toc_cell": false,
   "toc_section_display": "block",
   "toc_window_display": true
  }
 },
 "nbformat": 4,
 "nbformat_minor": 1
}
