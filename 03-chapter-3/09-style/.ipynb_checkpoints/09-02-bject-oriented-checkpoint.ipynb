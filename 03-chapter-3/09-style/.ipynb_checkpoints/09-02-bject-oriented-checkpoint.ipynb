{
 "cells": [
  {
   "cell_type": "markdown",
   "metadata": {
    "heading_collapsed": true
   },
   "source": [
    "#### Resources"
   ]
  },
  {
   "cell_type": "markdown",
   "metadata": {
    "hidden": true
   },
   "source": [
    "Follow Along\n",
    "- [Download Code - GitHub.com](https://github.com/dylanjorgensen/python)\n",
    "- [Watch Full Course - Udemy.com](www.udemy.com/course/1007826)\n",
    "- [Mnemonic eBook - DylanJorgensen.com](https://docs.google.com/document/d/1HOTSYAwUFwIagYbJfcsV3fKBnwdyyRmKGOsmUxzXui4/edit#heading=h.pq8kez3gce52)"
   ]
  },
  {
   "cell_type": "markdown",
   "metadata": {
    "hidden": true
   },
   "source": [
    "Read More"
   ]
  },
  {
   "cell_type": "markdown",
   "metadata": {
    "heading_collapsed": true
   },
   "source": [
    "# A Basic Class\n",
    "- What is a Python Class?\n",
    "- What is the purpose of a Class?"
   ]
  },
  {
   "cell_type": "markdown",
   "metadata": {
    "heading_collapsed": true,
    "hidden": true
   },
   "source": [
    "### Canonical Example"
   ]
  },
  {
   "cell_type": "markdown",
   "metadata": {
    "hidden": true
   },
   "source": [
    "- A class is a blueprint for a thing, but not a thing in itself. \n",
    "- It allows us to re-use code that to build things faster.\n",
    "- By convention Classes start with a capitol.\n",
    "- Python does not use getter() and setter() methods"
   ]
  },
  {
   "cell_type": "code",
   "execution_count": 5,
   "metadata": {
    "collapsed": true,
    "hidden": true
   },
   "outputs": [],
   "source": [
    "class Human(object):\n",
    "    \n",
    "    def __init__(self, name, gender):\n",
    "        \n",
    "        self.name = name\n",
    "        self.gender = gender\n",
    "        \n",
    "    # Make a method\n",
    "    def speak_name(self):\n",
    "        print(\"My name is\", self.name)\n",
    "        \n",
    "    def speak_text(self, text):\n",
    "        print(self.gender, \"Says:\", text)"
   ]
  },
  {
   "cell_type": "markdown",
   "metadata": {
    "heading_collapsed": true,
    "hidden": true
   },
   "source": [
    "### Follow Along"
   ]
  },
  {
   "cell_type": "markdown",
   "metadata": {
    "hidden": true
   },
   "source": [
    "- [github.com/dylanjorgensen/python](https://github.com/dylanjorgensen/python)\n",
    "- [youtube.com/dylanjorgensen/playlists](https://www.youtube.com/dylanjorgensen/playlists)"
   ]
  },
  {
   "cell_type": "markdown",
   "metadata": {
    "heading_collapsed": true,
    "hidden": true
   },
   "source": [
    "### Resources"
   ]
  },
  {
   "cell_type": "markdown",
   "metadata": {
    "hidden": true
   },
   "source": [
    "- [Preparing for a Python Interview](https://www.youtube.com/watch?v=DEwgZNC-KyE&feature=youtu.be&t=15m5s)\n",
    "- [Great Template With Layers](http://jtauber.com/2006/05/templates.html)"
   ]
  },
  {
   "cell_type": "markdown",
   "metadata": {
    "heading_collapsed": true
   },
   "source": [
    "# Instance\n",
    "- What is an instance?\n",
    "- What part of the class defines the methods and attributes?"
   ]
  },
  {
   "cell_type": "code",
   "execution_count": 9,
   "metadata": {
    "collapsed": true,
    "hidden": true
   },
   "outputs": [],
   "source": [
    "class Human(object):\n",
    "    \n",
    "    # Notice the instance requres two of these arguments\n",
    "    def __init__(self, name, gender):\n",
    "        \n",
    "        # self.whatever needs to match up with the __init__ parameters\n",
    "        self.name = name\n",
    "        self.gender = gender\n",
    "        \n",
    "    # Make a method\n",
    "    def speak_name(self):\n",
    "        print(\"My name is\", self.name)\n",
    "        \n",
    "    def speak_text(self, text):\n",
    "        print(self.gender, \"Says:\", text)"
   ]
  },
  {
   "cell_type": "code",
   "execution_count": 10,
   "metadata": {
    "collapsed": false,
    "hidden": true
   },
   "outputs": [
    {
     "data": {
      "text/plain": [
       "<__main__.Human at 0x106c68390>"
      ]
     },
     "execution_count": 10,
     "metadata": {},
     "output_type": "execute_result"
    }
   ],
   "source": [
    "dan = Human(\"Dan\", \"Male\")\n",
    "\n",
    "dan"
   ]
  },
  {
   "cell_type": "markdown",
   "metadata": {
    "hidden": true
   },
   "source": [
    "### Instance Variables/Attribute"
   ]
  },
  {
   "cell_type": "code",
   "execution_count": 14,
   "metadata": {
    "collapsed": false,
    "hidden": true
   },
   "outputs": [
    {
     "data": {
      "text/plain": [
       "'Dan'"
      ]
     },
     "execution_count": 14,
     "metadata": {},
     "output_type": "execute_result"
    }
   ],
   "source": [
    "dan.name"
   ]
  },
  {
   "cell_type": "code",
   "execution_count": 15,
   "metadata": {
    "collapsed": false,
    "hidden": true
   },
   "outputs": [
    {
     "data": {
      "text/plain": [
       "'Male'"
      ]
     },
     "execution_count": 15,
     "metadata": {},
     "output_type": "execute_result"
    }
   ],
   "source": [
    "dan.gender"
   ]
  },
  {
   "cell_type": "markdown",
   "metadata": {
    "hidden": true
   },
   "source": [
    "### Instance Methods/Behaviors"
   ]
  },
  {
   "cell_type": "code",
   "execution_count": 11,
   "metadata": {
    "collapsed": false,
    "hidden": true
   },
   "outputs": [
    {
     "name": "stdout",
     "output_type": "stream",
     "text": [
      "My name is Dan\n"
     ]
    }
   ],
   "source": [
    "dan.speak_name()"
   ]
  },
  {
   "cell_type": "code",
   "execution_count": 13,
   "metadata": {
    "collapsed": false,
    "hidden": true
   },
   "outputs": [
    {
     "name": "stdout",
     "output_type": "stream",
     "text": [
      "Male Says: This is new text\n"
     ]
    }
   ],
   "source": [
    "dan.speak_text(\"This is new text\")"
   ]
  },
  {
   "cell_type": "markdown",
   "metadata": {
    "heading_collapsed": true
   },
   "source": [
    "# Constructor\n",
    "- What is a constructor? Why do we need one?"
   ]
  },
  {
   "cell_type": "markdown",
   "metadata": {
    "hidden": true
   },
   "source": [
    "- The first method \\__init\\__() is a special method, which is called class constructor or initialization method"
   ]
  },
  {
   "cell_type": "code",
   "execution_count": null,
   "metadata": {
    "collapsed": true,
    "hidden": true
   },
   "outputs": [],
   "source": [
    "class Human():\n",
    "    \n",
    "    # The first method __init__() is a special method, which is called the constructor\n",
    "    def __init__(self, name, gender):\n",
    "        \n",
    "        self.name = name\n",
    "        self.gender = gender\n",
    "        \n",
    "    # Make a method\n",
    "    def speak_name(self):\n",
    "        print(\"My name is\", self.name)\n",
    "        \n",
    "    def speak_text(self, text):\n",
    "        print(self.gender, \"Says:\", text)"
   ]
  },
  {
   "cell_type": "markdown",
   "metadata": {
    "heading_collapsed": true
   },
   "source": [
    "# Self\n",
    "- Why do we keep passing self and self.whatever around inside the class?"
   ]
  },
  {
   "cell_type": "markdown",
   "metadata": {
    "hidden": true
   },
   "source": [
    "- Self if like a placeholder that will take on whatever name we give the instance."
   ]
  },
  {
   "cell_type": "code",
   "execution_count": 6,
   "metadata": {
    "collapsed": true,
    "hidden": true
   },
   "outputs": [],
   "source": [
    "class Human():\n",
    "    \n",
    "    # The first method __init__() is a special method, which is called the constructor\n",
    "    def __init__(self, name, gender):\n",
    "        \n",
    "        self.name = name\n",
    "        self.gender = gender\n",
    "        \n",
    "    # Make a method\n",
    "    def speak_name(self):\n",
    "        print(\"My name is\", self.name)\n",
    "        \n",
    "    def speak_text(self, text):\n",
    "        print(self.gender, \"Says:\", text)"
   ]
  },
  {
   "cell_type": "code",
   "execution_count": 7,
   "metadata": {
    "collapsed": true,
    "hidden": true
   },
   "outputs": [],
   "source": [
    "will = Human(\"Pat\", \"Male\")"
   ]
  },
  {
   "cell_type": "code",
   "execution_count": 9,
   "metadata": {
    "collapsed": false,
    "hidden": true
   },
   "outputs": [
    {
     "name": "stdout",
     "output_type": "stream",
     "text": [
      "My name is Pat\n"
     ]
    }
   ],
   "source": [
    "will.speak_name()"
   ]
  },
  {
   "cell_type": "code",
   "execution_count": 11,
   "metadata": {
    "collapsed": false,
    "hidden": true
   },
   "outputs": [
    {
     "data": {
      "text/plain": [
       "method"
      ]
     },
     "execution_count": 11,
     "metadata": {},
     "output_type": "execute_result"
    }
   ],
   "source": [
    "type(will.speak_name)"
   ]
  }
 ],
 "metadata": {
  "anaconda-cloud": {},
  "kernelspec": {
   "display_name": "Python [default]",
   "language": "python",
   "name": "python3"
  },
  "language_info": {
   "codemirror_mode": {
    "name": "ipython",
    "version": 3
   },
   "file_extension": ".py",
   "mimetype": "text/x-python",
   "name": "python",
   "nbconvert_exporter": "python",
   "pygments_lexer": "ipython3",
   "version": "3.5.2"
  },
  "toc": {
   "nav_menu": {
    "height": "12px",
    "width": "252px"
   },
   "navigate_menu": true,
   "number_sections": false,
   "sideBar": true,
   "threshold": 4,
   "toc_cell": false,
   "toc_section_display": "block",
   "toc_window_display": true
  }
 },
 "nbformat": 4,
 "nbformat_minor": 1
}
