{
 "cells": [
  {
   "cell_type": "markdown",
   "metadata": {
    "heading_collapsed": true
   },
   "source": [
    "# Class Inheritance"
   ]
  },
  {
   "cell_type": "markdown",
   "metadata": {
    "hidden": true
   },
   "source": [
    "### Canonical Example"
   ]
  },
  {
   "cell_type": "markdown",
   "metadata": {
    "hidden": true
   },
   "source": [
    "### Follow Along"
   ]
  },
  {
   "cell_type": "markdown",
   "metadata": {
    "hidden": true
   },
   "source": [
    "- [github.com/dylanjorgensen/python](https://github.com/dylanjorgensen/python)\n",
    "- [youtube.com/dylanjorgensen/playlists](https://www.youtube.com/dylanjorgensen/playlists)"
   ]
  },
  {
   "cell_type": "markdown",
   "metadata": {
    "hidden": true
   },
   "source": [
    "### Resources"
   ]
  },
  {
   "cell_type": "markdown",
   "metadata": {},
   "source": [
    "# Object Passing"
   ]
  },
  {
   "cell_type": "markdown",
   "metadata": {},
   "source": [
    "Notice how we can pass the default object into our class"
   ]
  },
  {
   "cell_type": "code",
   "execution_count": null,
   "metadata": {
    "collapsed": true
   },
   "outputs": [],
   "source": [
    "# Notice the added object. \n",
    "#class Human(object):"
   ]
  },
  {
   "cell_type": "code",
   "execution_count": 1,
   "metadata": {
    "collapsed": false
   },
   "outputs": [],
   "source": [
    "class Dog(object):\n",
    "\n",
    "    # Attributes / Variables\n",
    "    def __init__(self, name=\"\", height=0, weight=0):\n",
    "        self.name = name\n",
    "        self.height = height\n",
    "        self.weigh = weight\n",
    "\n",
    "    # Methods / Actions\n",
    "    def run(self):\n",
    "        print(\"{} the dog runs\".format(self.name))\n",
    "\n",
    "    def eat(self):\n",
    "        print(\"{} the dog eats\".format(self.name))\n",
    "        \n",
    "    def bark(self):\n",
    "        print(\"{} the dog barks\".format(self.name))"
   ]
  },
  {
   "cell_type": "code",
   "execution_count": 49,
   "metadata": {
    "collapsed": false
   },
   "outputs": [
    {
     "name": "stdout",
     "output_type": "stream",
     "text": [
      "Spot the dog runs\n"
     ]
    }
   ],
   "source": [
    "spot = Dog(\"Spot\", 50,75)\n",
    "spot.run()"
   ]
  },
  {
   "cell_type": "markdown",
   "metadata": {},
   "source": [
    "# Getters and Setters...\n",
    "- Getters and setters are used to protect our object from assigning bad fields values or improve output.\n",
    "- This will make it so we only an int above 0"
   ]
  },
  {
   "cell_type": "code",
   "execution_count": 55,
   "metadata": {
    "collapsed": true
   },
   "outputs": [],
   "source": [
    "class Square(object):\n",
    "\n",
    "    # Attributes / Variables\n",
    "    def __init__(self, height=0, width=0):\n",
    "        self.height = height\n",
    "        self.width = width\n",
    "\n",
    "    @property\n",
    "    def height(self):\n",
    "        print(\"Retrieving the Heignt\")\n",
    "        \n",
    "        return self.__height\n",
    "\n",
    "    @height.setter\n",
    "    def height(self, value):\n",
    "        \n",
    "        if value > 0:\n",
    "            self.__height = value\n",
    "        else:\n",
    "            print(\"Please only enter numbers for height\")\n",
    "    \n",
    "    def getArea(self):\n",
    "        return int(self.__height) * int(self.__height)"
   ]
  },
  {
   "cell_type": "markdown",
   "metadata": {},
   "source": [
    "# Subclasses\n",
    "- We don' need the () on the method anymore"
   ]
  },
  {
   "cell_type": "code",
   "execution_count": 56,
   "metadata": {
    "collapsed": false
   },
   "outputs": [
    {
     "name": "stdout",
     "output_type": "stream",
     "text": [
      "Retrieving the Heignt\n"
     ]
    },
    {
     "data": {
      "text/plain": [
       "10"
      ]
     },
     "execution_count": 56,
     "metadata": {},
     "output_type": "execute_result"
    }
   ],
   "source": [
    "my_square = Square(10,10)\n",
    "my_square.height"
   ]
  },
  {
   "cell_type": "code",
   "execution_count": 57,
   "metadata": {
    "collapsed": false
   },
   "outputs": [
    {
     "data": {
      "text/plain": [
       "100"
      ]
     },
     "execution_count": 57,
     "metadata": {},
     "output_type": "execute_result"
    }
   ],
   "source": [
    "my_square.getArea()"
   ]
  },
  {
   "cell_type": "markdown",
   "metadata": {},
   "source": [
    "# Super Classes"
   ]
  },
  {
   "cell_type": "code",
   "execution_count": null,
   "metadata": {
    "collapsed": true
   },
   "outputs": [],
   "source": []
  },
  {
   "cell_type": "code",
   "execution_count": null,
   "metadata": {
    "collapsed": true
   },
   "outputs": [],
   "source": []
  },
  {
   "cell_type": "markdown",
   "metadata": {},
   "source": [
    "# Overwriting"
   ]
  },
  {
   "cell_type": "code",
   "execution_count": null,
   "metadata": {
    "collapsed": true
   },
   "outputs": [],
   "source": []
  }
 ],
 "metadata": {
  "anaconda-cloud": {},
  "kernelspec": {
   "display_name": "Python [default]",
   "language": "python",
   "name": "python3"
  },
  "language_info": {
   "codemirror_mode": {
    "name": "ipython",
    "version": 3
   },
   "file_extension": ".py",
   "mimetype": "text/x-python",
   "name": "python",
   "nbconvert_exporter": "python",
   "pygments_lexer": "ipython3",
   "version": "3.5.2"
  },
  "toc": {
   "nav_menu": {
    "height": "174px",
    "width": "252px"
   },
   "navigate_menu": true,
   "number_sections": false,
   "sideBar": true,
   "threshold": 4,
   "toc_cell": false,
   "toc_section_display": "block",
   "toc_window_display": true
  }
 },
 "nbformat": 4,
 "nbformat_minor": 0
}
