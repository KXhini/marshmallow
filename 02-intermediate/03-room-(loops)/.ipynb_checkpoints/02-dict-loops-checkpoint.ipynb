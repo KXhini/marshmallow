{
 "cells": [
  {
   "cell_type": "markdown",
   "metadata": {},
   "source": [
    "# Looping With Dictionarys"
   ]
  },
  {
   "cell_type": "markdown",
   "metadata": {},
   "source": [
    "### = 1 Layer Dict...\n",
    "- For Python 3.x, iteritems() has been replaced with simply items(), which returns a set-like view backed by the dict. \n",
    "- like iteritems() but even better. This is also available in 2.7 as viewitems(). The operation items() will work for both 2 and 3, but in 2 it will return a list of the dictionary's (key, value) pairs, which will not reflect changes to the dict that happen after the items() call. If you want the 2.x behavior in 3.x, you can call list(d.items())."
   ]
  },
  {
   "cell_type": "code",
   "execution_count": 46,
   "metadata": {
    "collapsed": true
   },
   "outputs": [],
   "source": [
    "# 1 layer dict (no nesting)\n",
    "d1 = {\"red\":1, \"yellow\":2, \"green\":3, \"blue\":4}"
   ]
  },
  {
   "cell_type": "code",
   "execution_count": 47,
   "metadata": {
    "collapsed": false
   },
   "outputs": [
    {
     "name": "stdout",
     "output_type": "stream",
     "text": [
      "2\n"
     ]
    }
   ],
   "source": [
    "print(d1[\"yellow\"])"
   ]
  },
  {
   "cell_type": "code",
   "execution_count": 48,
   "metadata": {
    "collapsed": false
   },
   "outputs": [
    {
     "name": "stdout",
     "output_type": "stream",
     "text": [
      "red\n",
      "blue\n",
      "yellow\n",
      "green\n"
     ]
    }
   ],
   "source": [
    "# Loop over keys\n",
    "for k in d1:\n",
    "    print(k)"
   ]
  },
  {
   "cell_type": "code",
   "execution_count": 49,
   "metadata": {
    "collapsed": false
   },
   "outputs": [
    {
     "name": "stdout",
     "output_type": "stream",
     "text": [
      "red\n",
      "1\n",
      "blue\n",
      "4\n",
      "yellow\n",
      "2\n",
      "green\n",
      "3\n"
     ]
    }
   ],
   "source": [
    "# Loop over keys or values\n",
    "for key, value in d1.items():\n",
    "    print(key)\n",
    "    print(value)\n",
    "    # print(key[0]) # Prints the first letter of the key string not first value"
   ]
  },
  {
   "cell_type": "markdown",
   "metadata": {},
   "source": [
    "### = 2 Layer Dict..."
   ]
  },
  {
   "cell_type": "code",
   "execution_count": 50,
   "metadata": {
    "collapsed": true
   },
   "outputs": [],
   "source": [
    "# 2 layer dict (dict nested inside value)\n",
    "d2 = {\"State 1\": {\"action_1\": 0.56,  \"action_2\": 2.31,  \"action_3\": -0.72},\n",
    "      \"State 2\": {\"action_1\": 1.21,  \"action_2\": 0.13,  \"action_3\":  1.89},\n",
    "      \"State 3\": {\"action_1\": -0.27, \"action_2\": -0.57, \"action_3\":  3.73}\n",
    "     }"
   ]
  },
  {
   "cell_type": "code",
   "execution_count": 52,
   "metadata": {
    "collapsed": false
   },
   "outputs": [
    {
     "name": "stdout",
     "output_type": "stream",
     "text": [
      "1.21\n"
     ]
    }
   ],
   "source": [
    "# Retrieve specific value\n",
    "print(d2[\"State 2\"][\"action_1\"])"
   ]
  },
  {
   "cell_type": "code",
   "execution_count": 57,
   "metadata": {
    "collapsed": false
   },
   "outputs": [
    {
     "name": "stdout",
     "output_type": "stream",
     "text": [
      "-0.72\n",
      "0.56\n",
      "2.31\n",
      "1.89\n",
      "1.21\n",
      "0.13\n",
      "3.73\n",
      "-0.27\n",
      "-0.57\n"
     ]
    }
   ],
   "source": [
    "# Loop over 2nd layer keys and values\n",
    "for key, val in d2.items():\n",
    "    for key2, val2 in val.items():\n",
    "        #print(key2)\n",
    "        print(val2)"
   ]
  },
  {
   "cell_type": "markdown",
   "metadata": {
    "collapsed": true
   },
   "source": [
    "### = Keys From Multiple Layers In single Loop...\n",
    "- [Stack Overflow](http://stackoverflow.com/questions/10756427/loop-through-all-nested-dictionary-values)\n",
    "- I'm trying to loop through a dictionary and print out all key value pairs where the value is not a nested dictionary. If the value is a dictionary I want to go into it and print out its key value pairs...etc. Any help?"
   ]
  }
 ],
 "metadata": {
  "kernelspec": {
   "display_name": "Python 3",
   "language": "python",
   "name": "python3"
  },
  "language_info": {
   "codemirror_mode": {
    "name": "ipython",
    "version": 3
   },
   "file_extension": ".py",
   "mimetype": "text/x-python",
   "name": "python",
   "nbconvert_exporter": "python",
   "pygments_lexer": "ipython3",
   "version": "3.5.1"
  }
 },
 "nbformat": 4,
 "nbformat_minor": 0
}
