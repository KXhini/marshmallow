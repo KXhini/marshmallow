{
 "cells": [
  {
   "cell_type": "markdown",
   "metadata": {
    "heading_collapsed": true
   },
   "source": [
    "#### Resources"
   ]
  },
  {
   "cell_type": "markdown",
   "metadata": {
    "hidden": true
   },
   "source": [
    "Follow Along\n",
    "- [GitHub Marshmallow Repository - Download Code](https://github.com/dylanjorgensen/marshmallow)\n",
    "- [Learn Python: Like a Bee Student - Watch Full Course](https://www.udemy.com/learn-python-like-a-bee-student/)"
   ]
  },
  {
   "cell_type": "markdown",
   "metadata": {
    "hidden": true
   },
   "source": [
    "Read More\n",
    "- [How to Download and Install Python 3.5 on Windows 10](https://www.youtube.com/watch?v=dX2-V2BocqQ)"
   ]
  },
  {
   "cell_type": "markdown",
   "metadata": {
    "heading_collapsed": true
   },
   "source": [
    "# Interfacing"
   ]
  },
  {
   "cell_type": "markdown",
   "metadata": {
    "heading_collapsed": true,
    "hidden": true
   },
   "source": [
    "### Integrated Development Environment"
   ]
  },
  {
   "cell_type": "markdown",
   "metadata": {
    "hidden": true
   },
   "source": [
    "- [Best Python IDE](http://noeticforce.com/best-python-ide-for-programmers-windows-and-mac)\n",
    "- [PyCharm](https://www.jetbrains.com/pycharm/download/#)"
   ]
  },
  {
   "cell_type": "markdown",
   "metadata": {
    "heading_collapsed": true,
    "hidden": true
   },
   "source": [
    "### Terminal Editors"
   ]
  },
  {
   "cell_type": "markdown",
   "metadata": {
    "hidden": true
   },
   "source": [
    "- [VIM - Text Editor](http://www.vim.org/)\n",
    "- [iPython - interactive python shell](https://www.quora.com/What-is-the-difference-between-IPython-and-Python)"
   ]
  },
  {
   "cell_type": "markdown",
   "metadata": {
    "heading_collapsed": true,
    "hidden": true
   },
   "source": [
    "### Jupyter Notebooks"
   ]
  },
  {
   "cell_type": "markdown",
   "metadata": {
    "hidden": true
   },
   "source": [
    "- [Jupyter Notebook](http://jupyter.org/)\n",
    "- [Gallery of interesting notebooks](https://github.com/ipython/ipython/wiki/A-gallery-of-interesting-IPython-Notebooks)"
   ]
  },
  {
   "cell_type": "markdown",
   "metadata": {
    "heading_collapsed": true
   },
   "source": [
    "# Traditional"
   ]
  },
  {
   "cell_type": "markdown",
   "metadata": {
    "heading_collapsed": true,
    "hidden": true
   },
   "source": [
    "### Mac (Lesson Python)\n",
    "- [Classic Python ](https://www.python.org/downloads/mac-osx/)\n",
    "- [Anaconda Python](https://www.continuum.io/downloads#osx)"
   ]
  },
  {
   "cell_type": "markdown",
   "metadata": {
    "heading_collapsed": true,
    "hidden": true
   },
   "source": [
    "### Windows\n",
    "- [Classic Python ](https://www.python.org/downloads/windows/)\n",
    "- [Anaconda Python](https://www.continuum.io/downloads#windows)"
   ]
  },
  {
   "cell_type": "markdown",
   "metadata": {
    "heading_collapsed": true,
    "hidden": true
   },
   "source": [
    "### Linux\n",
    "- [Classic Python ](https://www.python.org/downloads/source/)\n",
    "- [Anaconda Python](https://www.continuum.io/downloads#linux)"
   ]
  },
  {
   "cell_type": "markdown",
   "metadata": {
    "heading_collapsed": true
   },
   "source": [
    "# Mobile"
   ]
  },
  {
   "cell_type": "markdown",
   "metadata": {
    "heading_collapsed": true,
    "hidden": true
   },
   "source": [
    "### IOS\n",
    "- [Pythonista 3 - Python IDE for IOS](http://omz-software.com/pythonista/)"
   ]
  },
  {
   "cell_type": "markdown",
   "metadata": {
    "hidden": true
   },
   "source": [
    "### Android\n",
    "- [Android Scripting Environment (ASE)](http://stackoverflow.com/questions/101754/is-there-a-way-to-run-python-on-android)"
   ]
  },
  {
   "cell_type": "markdown",
   "metadata": {
    "heading_collapsed": true
   },
   "source": [
    "# Cloud"
   ]
  },
  {
   "cell_type": "markdown",
   "metadata": {
    "hidden": true
   },
   "source": [
    "### Web Apps\n",
    "- [Sage Math](https://cloud.sagemath.com/settings)\n",
    "- [Wakari](https://wakari.io/)\n",
    "- [Azure](https://studio.azureml.net/)\n",
    "- [Google Cloud](https://cloud.google.com/dataproc/docs/tutorials/jupyter-notebook)\n",
    "- [Jupyter.org](https://try.jupyter.org/)"
   ]
  },
  {
   "cell_type": "markdown",
   "metadata": {
    "hidden": true
   },
   "source": [
    "### Chrome Extension\n",
    "- [CoLaboratory](https://chrome.google.com/webstore/detail/colaboratory-notebook/pianggobfjcgeihlmfhfgkfalopndooo)"
   ]
  }
 ],
 "metadata": {
  "anaconda-cloud": {},
  "kernelspec": {
   "display_name": "Python [default]",
   "language": "python",
   "name": "python3"
  },
  "language_info": {
   "codemirror_mode": {
    "name": "ipython",
    "version": 3
   },
   "file_extension": ".py",
   "mimetype": "text/x-python",
   "name": "python",
   "nbconvert_exporter": "python",
   "pygments_lexer": "ipython3",
   "version": "3.5.2"
  },
  "toc": {
   "nav_menu": {
    "height": "103px",
    "width": "252px"
   },
   "navigate_menu": true,
   "number_sections": false,
   "sideBar": false,
   "threshold": 4,
   "toc_cell": false,
   "toc_position": {
    "height": "494px",
    "left": "702.997px",
    "right": "20px",
    "top": "121.989px",
    "width": "213px"
   },
   "toc_section_display": "block",
   "toc_window_display": true
  }
 },
 "nbformat": 4,
 "nbformat_minor": 1
}
