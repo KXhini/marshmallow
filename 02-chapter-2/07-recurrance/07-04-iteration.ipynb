{
 "cells": [
  {
   "cell_type": "markdown",
   "metadata": {},
   "source": [
    "#### Resources"
   ]
  },
  {
   "cell_type": "markdown",
   "metadata": {},
   "source": [
    "Follow Along\n",
    "- [Download Code - GitHub.com](https://github.com/dylanjorgensen/python)\n",
    "- [Watch Full Course - Udemy.com](www.udemy.com/course/1007826)\n",
    "- [Mnemonic eBook - DylanJorgensen.com](https://docs.google.com/document/d/1HOTSYAwUFwIagYbJfcsV3fKBnwdyyRmKGOsmUxzXui4/edit#heading=h.pq8kez3gce52)"
   ]
  },
  {
   "cell_type": "markdown",
   "metadata": {},
   "source": [
    "Read More\n",
    "- [Learn Python](http://www.learnpython.org/en/Generators)\n",
    "- [YouTube](https://www.youtube.com/watch?v=07-K4LFhBMc)\n",
    "- [YouTube](https://www.youtube.com/watch?v=RdhoN4VVqq8)\n",
    "- [What on Earth is Recursion? - Computerphile](https://www.youtube.com/watch?v=Mv9NEXX1VHc)\n",
    "- [Python-Course.eu](http://www.python-course.eu/recursive_functions.php)"
   ]
  },
  {
   "cell_type": "markdown",
   "metadata": {},
   "source": [
    "http://stackoverflow.com/questions/9884132/what-exactly-are-pythons-iterator-iterable-and-iteration-protocols"
   ]
  },
  {
   "cell_type": "code",
   "execution_count": 1,
   "metadata": {
    "collapsed": true
   },
   "outputs": [],
   "source": [
    "# From http://stackoverflow.com/questions/9884132/what-exactly-are-pythons-iterator-iterable-and-iteration-protocols\n",
    "\n",
    "s = 'cat'      # s is an ITERABLE\n",
    "                   # s is a str object that is immutable\n",
    "                   # s has no state\n",
    "                   # s has a __getitem__() method "
   ]
  },
  {
   "cell_type": "code",
   "execution_count": null,
   "metadata": {
    "collapsed": true
   },
   "outputs": [],
   "source": [
    "t = iter(s)    # t is an ITERATOR\n",
    "                   # t has state (it starts by pointing at the \"c\"\n",
    "                   # t has a next() method and an __iter__() method"
   ]
  },
  {
   "cell_type": "code",
   "execution_count": null,
   "metadata": {
    "collapsed": true
   },
   "outputs": [],
   "source": [
    "next(t)        # the next() function returns the next value and advances the state"
   ]
  },
  {
   "cell_type": "code",
   "execution_count": null,
   "metadata": {
    "collapsed": true
   },
   "outputs": [],
   "source": [
    "next(t)        # the next() function returns the next value and advances"
   ]
  },
  {
   "cell_type": "code",
   "execution_count": null,
   "metadata": {
    "collapsed": true
   },
   "outputs": [],
   "source": [
    "next(t)        # the next() function returns the next value and advances"
   ]
  },
  {
   "cell_type": "code",
   "execution_count": null,
   "metadata": {
    "collapsed": true
   },
   "outputs": [],
   "source": [
    "next(t)        # next() raises StopIteration to signal that iteration is complete"
   ]
  },
  {
   "cell_type": "code",
   "execution_count": null,
   "metadata": {
    "collapsed": true
   },
   "outputs": [],
   "source": [
    "iter(t) is t   # the iterator is self-iterable"
   ]
  },
  {
   "cell_type": "markdown",
   "metadata": {},
   "source": [
    "# Recursion vs. Iteration"
   ]
  },
  {
   "cell_type": "markdown",
   "metadata": {},
   "source": [
    "- The Fibonacci sequence can be described in two ways: \n",
    "- Recursively with a recurrence relation\n",
    "- Iteratively by explaining how to obtain the next number in the sequence. "
   ]
  },
  {
   "cell_type": "code",
   "execution_count": null,
   "metadata": {
    "collapsed": true
   },
   "outputs": [],
   "source": []
  },
  {
   "cell_type": "code",
   "execution_count": null,
   "metadata": {
    "collapsed": true
   },
   "outputs": [],
   "source": []
  },
  {
   "cell_type": "code",
   "execution_count": 10,
   "metadata": {
    "collapsed": false
   },
   "outputs": [],
   "source": [
    "# Recursive\n",
    "\n",
    "# Why is this verions of the Fibonacci sequeneces considered recursive?\n",
    "def fib(n):\n",
    "   if n <= 1:\n",
    "      return 0\n",
    "   else:\n",
    "      return fib(n-1)"
   ]
  },
  {
   "cell_type": "code",
   "execution_count": 11,
   "metadata": {
    "collapsed": false
   },
   "outputs": [
    {
     "data": {
      "text/plain": [
       "0"
      ]
     },
     "execution_count": 11,
     "metadata": {},
     "output_type": "execute_result"
    }
   ],
   "source": [
    "fib(40)"
   ]
  },
  {
   "cell_type": "code",
   "execution_count": null,
   "metadata": {
    "collapsed": true
   },
   "outputs": [],
   "source": [
    "# 5\n",
    "# 5*4\n",
    "# 5*4*3\n",
    "# 5*4*3*2\n",
    "# 5*4*3*2*1\n",
    "\n",
    "\n",
    "# def factorial(#5):\n",
    "#     #5 * factorial(#5-#1 = #4)\n",
    "#         #4 * factorial(#4-#1 = #3)\n",
    "#             #3 * factorial(#3-#1 = #2)\n",
    "#                 #2 * factorial(#2-#1 = #1)\n",
    "#                     if number <= 1:\n",
    "#                         return 1"
   ]
  },
  {
   "cell_type": "code",
   "execution_count": 6,
   "metadata": {
    "collapsed": true
   },
   "outputs": [],
   "source": [
    "# 2*1 = 2\n",
    "# 2*3 = 6\n",
    "# 6*4 = 24\n",
    "# 24*5 = 120"
   ]
  },
  {
   "cell_type": "code",
   "execution_count": null,
   "metadata": {
    "collapsed": true
   },
   "outputs": [],
   "source": [
    "# Iterative\n",
    "\n",
    "# Why is this verions of the Fibonacci sequeneces considered iterative?\n",
    "def f(n):\n",
    "    a, b = 0, 1\n",
    "    for i in range(0, n):\n",
    "        a, b = b, a + b\n",
    "    return a"
   ]
  },
  {
   "cell_type": "markdown",
   "metadata": {
    "heading_collapsed": true
   },
   "source": [
    "# Iter Obj"
   ]
  },
  {
   "cell_type": "code",
   "execution_count": 13,
   "metadata": {
    "collapsed": false,
    "hidden": true
   },
   "outputs": [
    {
     "data": {
      "text/plain": [
       "False"
      ]
     },
     "execution_count": 13,
     "metadata": {},
     "output_type": "execute_result"
    }
   ],
   "source": [
    "import types\n",
    "\n",
    "square_list = [2, 3, 5]\n",
    "\n",
    "isinstance(square_me, types.GeneratorType)"
   ]
  },
  {
   "cell_type": "code",
   "execution_count": 17,
   "metadata": {
    "collapsed": false,
    "hidden": true
   },
   "outputs": [
    {
     "data": {
      "text/plain": [
       "True"
      ]
     },
     "execution_count": 17,
     "metadata": {},
     "output_type": "execute_result"
    }
   ],
   "source": [
    "import types\n",
    "\n",
    "square_gen = (n for n in [2, 3, 5])\n",
    "\n",
    "isinstance(square_gen, types.GeneratorType)"
   ]
  },
  {
   "cell_type": "code",
   "execution_count": 18,
   "metadata": {
    "collapsed": false,
    "hidden": true
   },
   "outputs": [
    {
     "data": {
      "text/plain": [
       "generator"
      ]
     },
     "execution_count": 18,
     "metadata": {},
     "output_type": "execute_result"
    }
   ],
   "source": [
    "type(square_gen)"
   ]
  },
  {
   "cell_type": "code",
   "execution_count": 19,
   "metadata": {
    "collapsed": false,
    "hidden": true,
    "scrolled": false
   },
   "outputs": [
    {
     "name": "stdout",
     "output_type": "stream",
     "text": [
      "2\n",
      "3\n"
     ]
    }
   ],
   "source": [
    "print(next(square_gen)) # returns index 1\n",
    "print(next(square_gen)) # returns index 2... etc. (error after last index)"
   ]
  },
  {
   "cell_type": "markdown",
   "metadata": {
    "heading_collapsed": true
   },
   "source": [
    "# ASYNC\n",
    "https://youtu.be/aintdHnqaio?t=28m16s"
   ]
  },
  {
   "cell_type": "code",
   "execution_count": 2,
   "metadata": {
    "collapsed": false,
    "hidden": true
   },
   "outputs": [
    {
     "data": {
      "text/plain": [
       "True"
      ]
     },
     "execution_count": 2,
     "metadata": {},
     "output_type": "execute_result"
    }
   ],
   "source": [
    "import types\n",
    "\n",
    "square_gen = (n for n in [2, 3, 5])\n",
    "\n",
    "isinstance(square_gen, types.GeneratorType)"
   ]
  },
  {
   "cell_type": "code",
   "execution_count": 3,
   "metadata": {
    "collapsed": false,
    "hidden": true
   },
   "outputs": [
    {
     "ename": "SyntaxError",
     "evalue": "invalid syntax (<ipython-input-3-c66761007bf0>, line 1)",
     "output_type": "error",
     "traceback": [
      "\u001b[0;36m  File \u001b[0;32m\"<ipython-input-3-c66761007bf0>\"\u001b[0;36m, line \u001b[0;32m1\u001b[0m\n\u001b[0;31m    async for i in square_gen\u001b[0m\n\u001b[0m            ^\u001b[0m\n\u001b[0;31mSyntaxError\u001b[0m\u001b[0;31m:\u001b[0m invalid syntax\n"
     ]
    }
   ],
   "source": [
    "async for i in square_gen"
   ]
  },
  {
   "cell_type": "markdown",
   "metadata": {
    "collapsed": true,
    "hidden": true
   },
   "source": [
    "### Pause/Resume"
   ]
  },
  {
   "cell_type": "code",
   "execution_count": 20,
   "metadata": {
    "collapsed": false,
    "hidden": true
   },
   "outputs": [
    {
     "data": {
      "text/plain": [
       "True"
      ]
     },
     "execution_count": 20,
     "metadata": {},
     "output_type": "execute_result"
    }
   ],
   "source": [
    "import types\n",
    "\n",
    "square_gen = (n for n in [2, 3, 5, 6])\n",
    "\n",
    "isinstance(square_gen, types.GeneratorType)"
   ]
  },
  {
   "cell_type": "code",
   "execution_count": 21,
   "metadata": {
    "collapsed": false,
    "hidden": true
   },
   "outputs": [
    {
     "name": "stdout",
     "output_type": "stream",
     "text": [
      "2\n",
      "3\n"
     ]
    }
   ],
   "source": [
    "print(next(square_gen)) # returns index 1\n",
    "print(next(square_gen)) # returns index 2... etc. (error after last index)"
   ]
  },
  {
   "cell_type": "code",
   "execution_count": 22,
   "metadata": {
    "collapsed": false,
    "hidden": true
   },
   "outputs": [
    {
     "name": "stdout",
     "output_type": "stream",
     "text": [
      "5\n",
      "6\n"
     ]
    }
   ],
   "source": [
    "# Best way to pull out returns\n",
    "for i in square_gen:\n",
    "    print(i)"
   ]
  },
  {
   "cell_type": "code",
   "execution_count": 24,
   "metadata": {
    "collapsed": false,
    "hidden": true
   },
   "outputs": [
    {
     "ename": "StopIteration",
     "evalue": "",
     "output_type": "error",
     "traceback": [
      "\u001b[0;31m---------------------------------------------------------------------------\u001b[0m",
      "\u001b[0;31mStopIteration\u001b[0m                             Traceback (most recent call last)",
      "\u001b[0;32m<ipython-input-24-0317dc9220d5>\u001b[0m in \u001b[0;36m<module>\u001b[0;34m()\u001b[0m\n\u001b[0;32m----> 1\u001b[0;31m \u001b[0mprint\u001b[0m\u001b[0;34m(\u001b[0m\u001b[0mnext\u001b[0m\u001b[0;34m(\u001b[0m\u001b[0msquare_gen\u001b[0m\u001b[0;34m)\u001b[0m\u001b[0;34m)\u001b[0m\u001b[0;34m\u001b[0m\u001b[0m\n\u001b[0m",
      "\u001b[0;31mStopIteration\u001b[0m: "
     ]
    }
   ],
   "source": [
    "print(next(square_gen))"
   ]
  },
  {
   "cell_type": "markdown",
   "metadata": {
    "collapsed": true,
    "heading_collapsed": true
   },
   "source": [
    "# Generator Functions (Yeild)"
   ]
  },
  {
   "cell_type": "markdown",
   "metadata": {
    "hidden": true
   },
   "source": [
    "### Square Me"
   ]
  },
  {
   "cell_type": "code",
   "execution_count": 12,
   "metadata": {
    "collapsed": true,
    "hidden": true
   },
   "outputs": [],
   "source": [
    "square_me = [2, 3, 4, 5]"
   ]
  },
  {
   "cell_type": "code",
   "execution_count": null,
   "metadata": {
    "collapsed": true,
    "hidden": true
   },
   "outputs": [],
   "source": [
    "# Squared using a function and loop\n",
    "def square_numbers(nums):\n",
    "    result = []\n",
    "    for i in nums:\n",
    "        result.append(i*i)\n",
    "    return result\n",
    "\n",
    "returned_nums = square_numbers(square_me)\n",
    "\n",
    "# Re\n",
    "for i in returned_nums:\n",
    "    print(i)\n",
    "\n",
    "type(returned_nums), returned_nums"
   ]
  },
  {
   "cell_type": "code",
   "execution_count": 6,
   "metadata": {
    "collapsed": false,
    "hidden": true
   },
   "outputs": [
    {
     "name": "stdout",
     "output_type": "stream",
     "text": [
      "<generator object square_numbers at 0x106cf1a98>\n"
     ]
    },
    {
     "data": {
      "text/plain": [
       "generator"
      ]
     },
     "execution_count": 6,
     "metadata": {},
     "output_type": "execute_result"
    }
   ],
   "source": [
    "# generator version\n",
    "def square_numbers(nums):\n",
    "    for i in nums:\n",
    "        yield (i*i)\n",
    "\n",
    "generator_nums = square_numbers([2,3,4,5])\n",
    "\n",
    "print(generator_nums)  # Can't print the result!\n",
    "type(generator_nums)"
   ]
  },
  {
   "cell_type": "markdown",
   "metadata": {
    "hidden": true
   },
   "source": [
    "### Is Prime"
   ]
  },
  {
   "cell_type": "code",
   "execution_count": null,
   "metadata": {
    "collapsed": true,
    "hidden": true
   },
   "outputs": [],
   "source": [
    "# Done the traditional way\n",
    "def isprime(n):\n",
    "    if n == 1:\n",
    "        return False\n",
    "    for x in range(2, n):\n",
    "        if n % x == 0:\n",
    "            return False\n",
    "    else:\n",
    "        return True\n",
    "    \n",
    "isprime(9)"
   ]
  },
  {
   "cell_type": "code",
   "execution_count": null,
   "metadata": {
    "collapsed": true,
    "hidden": true
   },
   "outputs": [],
   "source": [
    "# Done the generator way\n",
    "\n",
    "# Yield is similar to return but the next time the func is\n",
    "# called it will skip anything not satiable for use in a loop\n",
    "\n",
    "\n",
    "def primes(n=1):\n",
    "    while(True):        \n",
    "        if isprime(n): \n",
    "            yield n\n",
    "        n += 1\n",
    "        \n",
    "hi = primes(9)\n",
    "\n",
    "for i in hi:\n",
    "    print(i)"
   ]
  },
  {
   "cell_type": "markdown",
   "metadata": {
    "hidden": true
   },
   "source": [
    "### Time"
   ]
  },
  {
   "cell_type": "code",
   "execution_count": null,
   "metadata": {
    "collapsed": true,
    "hidden": true
   },
   "outputs": [],
   "source": [
    "%time\n",
    "\n",
    "# Regular way\n",
    "lister = []\n",
    "for x in range(2000):\n",
    "    lister.append(x+x)\n",
    "\n",
    "print(len(lister))"
   ]
  },
  {
   "cell_type": "code",
   "execution_count": null,
   "metadata": {
    "collapsed": true,
    "hidden": true
   },
   "outputs": [],
   "source": [
    "%time\n",
    "\n",
    "# Generator way\n",
    "generator = (y+y for y in range(2000))\n",
    "\n",
    "type(generator)"
   ]
  },
  {
   "cell_type": "markdown",
   "metadata": {
    "collapsed": true,
    "hidden": true
   },
   "source": [
    "### Reverse"
   ]
  },
  {
   "cell_type": "code",
   "execution_count": null,
   "metadata": {
    "collapsed": true,
    "hidden": true
   },
   "outputs": [],
   "source": [
    "# Looping while version\n",
    "def reverse_while(text):\n",
    "    \n",
    "    count = len(text) - 1\n",
    "    \n",
    "    out = []\n",
    "    while (count > -1):\n",
    "        out.append(text[count])\n",
    "        count -= 1\n",
    "        print(out)\n",
    "\n",
    "    new = ''\n",
    "    return new.join(out)\n",
    "\n",
    "reverse_while('dylan')"
   ]
  },
  {
   "cell_type": "code",
   "execution_count": null,
   "metadata": {
    "collapsed": true,
    "hidden": true
   },
   "outputs": [],
   "source": [
    "# Generator version\n",
    "def reverse(text):\n",
    "    \n",
    "    # First -1 is to stay in len of data\n",
    "    # Second -1 is go out of bounds\n",
    "    # Third -1 is go down in increments of 1\n",
    "    for i in range(len(text)-1,-1,-1):\n",
    "        \n",
    "        # Yield is a pause with a conditional return\n",
    "        yield text[i]\n",
    "        \n",
    "gen = reverse('dylan')\n",
    "[print(i) for i in gen]"
   ]
  },
  {
   "cell_type": "markdown",
   "metadata": {
    "hidden": true
   },
   "source": [
    "### Factorial"
   ]
  },
  {
   "cell_type": "code",
   "execution_count": null,
   "metadata": {
    "collapsed": true,
    "hidden": true
   },
   "outputs": [],
   "source": [
    "# Notice how the function calls a smaller version of itself in its answer.\n",
    "def factorial(n):\n",
    "    if n == 1:\n",
    "        return(1)\n",
    "    else:\n",
    "        print(n * factorial(n-1))        \n",
    "        return(n * factorial(n-1))"
   ]
  },
  {
   "cell_type": "code",
   "execution_count": null,
   "metadata": {
    "collapsed": true,
    "hidden": true
   },
   "outputs": [],
   "source": [
    "factorial(4)"
   ]
  },
  {
   "cell_type": "code",
   "execution_count": null,
   "metadata": {
    "collapsed": true,
    "hidden": true
   },
   "outputs": [],
   "source": [
    "# The way this works is first the interpretr will build out a chain of function variables.\n",
    "\n",
    "# 5\n",
    "# 5*4\n",
    "# 5*4*3\n",
    "# 5*4*3*2\n",
    "# 5*4*3*2*1\n",
    "\n",
    "\n",
    "# def factorial(#5):\n",
    "#     #5 * factorial(#5-#1 = #4)\n",
    "#         #4 * factorial(#4-#1 = #3)\n",
    "#             #3 * factorial(#3-#1 = #2)\n",
    "#                 #2 * factorial(#2-#1 = #1)\n",
    "#                     if number <= 1:\n",
    "#                         return 1"
   ]
  },
  {
   "cell_type": "code",
   "execution_count": null,
   "metadata": {
    "collapsed": true,
    "hidden": true
   },
   "outputs": [],
   "source": [
    "# Then it will solve the problem going back up.\n",
    "\n",
    "# 2*1 = 2\n",
    "# 2*3 = 6\n",
    "# 6*4 = 24\n",
    "# 24*5 = 120"
   ]
  }
 ],
 "metadata": {
  "anaconda-cloud": {},
  "kernelspec": {
   "display_name": "Python [default]",
   "language": "python",
   "name": "python3"
  },
  "language_info": {
   "codemirror_mode": {
    "name": "ipython",
    "version": 3
   },
   "file_extension": ".py",
   "mimetype": "text/x-python",
   "name": "python",
   "nbconvert_exporter": "python",
   "pygments_lexer": "ipython3",
   "version": "3.5.2"
  },
  "toc": {
   "nav_menu": {
    "height": "230px",
    "width": "252px"
   },
   "navigate_menu": true,
   "number_sections": false,
   "sideBar": true,
   "threshold": 4,
   "toc_cell": false,
   "toc_section_display": "block",
   "toc_window_display": true
  }
 },
 "nbformat": 4,
 "nbformat_minor": 1
}
