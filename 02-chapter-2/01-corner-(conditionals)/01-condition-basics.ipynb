{
 "cells": [
  {
   "cell_type": "markdown",
   "metadata": {
    "heading_collapsed": true
   },
   "source": [
    "#### Resources"
   ]
  },
  {
   "cell_type": "markdown",
   "metadata": {
    "hidden": true
   },
   "source": [
    "Follow Along\n",
    "- [Download Code - GitHub.com](https://github.com/dylanjorgensen/python)\n",
    "- [Watch Full Course - Udemy.com](www.udemy.com/course/1007826)\n",
    "- [Mnemonic eBook - DylanJorgensen.com](https://docs.google.com/document/d/1HOTSYAwUFwIagYbJfcsV3fKBnwdyyRmKGOsmUxzXui4/edit#heading=h.pq8kez3gce52)"
   ]
  },
  {
   "cell_type": "markdown",
   "metadata": {
    "hidden": true
   },
   "source": [
    "Read More\n",
    "- [Python Central](http://pythoncentral.io/one-line-if-statement-in-python-ternary-conditional-operator/)\n",
    "- [Stack Overflow](http://stackoverflow.com/questions/132988/is-there-a-difference-between-and-is-in-python)"
   ]
  },
  {
   "cell_type": "markdown",
   "metadata": {
    "collapsed": true,
    "heading_collapsed": true
   },
   "source": [
    "# [Conditionals](https://docs.google.com/document/d/1HOTSYAwUFwIagYbJfcsV3fKBnwdyyRmKGOsmUxzXui4/edit#heading=h.oyl3dy8lr1e8)"
   ]
  },
  {
   "cell_type": "code",
   "execution_count": null,
   "metadata": {
    "collapsed": false,
    "hidden": true,
    "scrolled": true
   },
   "outputs": [],
   "source": [
    "# Can Elsa eat this?\n",
    "taste = \"good\"\n",
    "calories = 350\n",
    "\n",
    "print(\"Eat Cheesecake!\" if taste == 'good' and calories < 300 else \"Order Salad\")"
   ]
  },
  {
   "cell_type": "markdown",
   "metadata": {
    "heading_collapsed": true
   },
   "source": [
    "# [Keywords](https://docs.google.com/document/d/1HOTSYAwUFwIagYbJfcsV3fKBnwdyyRmKGOsmUxzXui4/edit#heading=h.4aq4p1yt83e7)"
   ]
  },
  {
   "cell_type": "code",
   "execution_count": null,
   "metadata": {
    "collapsed": false,
    "hidden": true
   },
   "outputs": [],
   "source": [
    "# If this, else what?\n",
    "if calories < 300:\n",
    "    print(\"Eat\")"
   ]
  },
  {
   "cell_type": "code",
   "execution_count": null,
   "metadata": {
    "collapsed": false,
    "hidden": true
   },
   "outputs": [],
   "source": [
    "# If this, then what?\n",
    "if calories < 300:\n",
    "    print(\"Eat\")\n",
    "else:\n",
    "    print(\"Order Salad\")"
   ]
  },
  {
   "cell_type": "code",
   "execution_count": null,
   "metadata": {
    "collapsed": false,
    "hidden": true
   },
   "outputs": [],
   "source": [
    "# If this, else this, then What?\n",
    "if calories < 300:\n",
    "    print(\"Eat\")\n",
    "elif calories == 350:\n",
    "    print(\"Just this time\")\n",
    "else:\n",
    "    print(\"Order Salad\")"
   ]
  },
  {
   "cell_type": "markdown",
   "metadata": {
    "heading_collapsed": true
   },
   "source": [
    "# [Decision Trees](https://docs.google.com/document/d/1HOTSYAwUFwIagYbJfcsV3fKBnwdyyRmKGOsmUxzXui4/edit#heading=h.py61gz9cpmy8)"
   ]
  },
  {
   "cell_type": "code",
   "execution_count": 1,
   "metadata": {
    "collapsed": false,
    "hidden": true
   },
   "outputs": [],
   "source": [
    "# Specify\n",
    "elsa_age = 21\n",
    "anna_age = 17"
   ]
  },
  {
   "cell_type": "code",
   "execution_count": 2,
   "metadata": {
    "collapsed": false,
    "hidden": true
   },
   "outputs": [
    {
     "name": "stdout",
     "output_type": "stream",
     "text": [
      "She can drive but not drink\n"
     ]
    }
   ],
   "source": [
    "# What fun things is Anna old enough to do?\n",
    "if anna_age >= 21:\n",
    "    print(\"She can drink and drive, but not at the same time\")\n",
    "elif anna_age >= 17 and anna_age <= 21:\n",
    "    print(\"She can drive but not drink\")\n",
    "else:\n",
    "    print(\"Not old enough to do anything fun\")"
   ]
  },
  {
   "cell_type": "markdown",
   "metadata": {
    "heading_collapsed": true,
    "hidden": true
   },
   "source": [
    "### Simple Logic"
   ]
  },
  {
   "cell_type": "code",
   "execution_count": 3,
   "metadata": {
    "collapsed": true,
    "hidden": true
   },
   "outputs": [],
   "source": [
    "# Reminder\n",
    "elsa_age = 21\n",
    "anna_age = 17"
   ]
  },
  {
   "cell_type": "code",
   "execution_count": 4,
   "metadata": {
    "collapsed": false,
    "hidden": true,
    "scrolled": true
   },
   "outputs": [
    {
     "name": "stdout",
     "output_type": "stream",
     "text": [
      "teenager\n"
     ]
    }
   ],
   "source": [
    "# Is this logic readable in one line?\n",
    "print('kid' if elsa_age < 13 else 'teenager')"
   ]
  },
  {
   "cell_type": "code",
   "execution_count": 5,
   "metadata": {
    "collapsed": false,
    "hidden": true
   },
   "outputs": [
    {
     "name": "stdout",
     "output_type": "stream",
     "text": [
      "teenager\n"
     ]
    }
   ],
   "source": [
    "# Is this logic in human readable order?\n",
    "print('kid' if anna_age < 13 else 'teenager' if anna_age < 18 else 'adult')"
   ]
  },
  {
   "cell_type": "markdown",
   "metadata": {
    "heading_collapsed": true,
    "hidden": true
   },
   "source": [
    "### Complex Logic"
   ]
  },
  {
   "cell_type": "code",
   "execution_count": 6,
   "metadata": {
    "collapsed": true,
    "hidden": true
   },
   "outputs": [],
   "source": [
    "# Reminder\n",
    "elsa_age = 21\n",
    "anna_age = 17"
   ]
  },
  {
   "cell_type": "code",
   "execution_count": 7,
   "metadata": {
    "collapsed": false,
    "hidden": true
   },
   "outputs": [
    {
     "name": "stdout",
     "output_type": "stream",
     "text": [
      "teenager\n"
     ]
    }
   ],
   "source": [
    "# Will this work without the indentations?\n",
    "if anna_age < 18:\n",
    "    if anna_age < 13:\n",
    "        print('kid')\n",
    "    else:\n",
    "        print('teenager')\n",
    "else:\n",
    "    print('adult')"
   ]
  },
  {
   "cell_type": "code",
   "execution_count": 11,
   "metadata": {
    "collapsed": false,
    "hidden": true
   },
   "outputs": [
    {
     "name": "stdout",
     "output_type": "stream",
     "text": [
      "Batman lives\n"
     ]
    }
   ],
   "source": [
    "# Twoface captured \"Snow Batman\", his coin flip follows this logic.\n",
    "# Will Snow Batman survive?\n",
    "if not True:\n",
    "    print(\"Snow Batman dies\")\n",
    "else:\n",
    "    print(\"Snow Batman lives\")"
   ]
  },
  {
   "cell_type": "markdown",
   "metadata": {
    "heading_collapsed": true,
    "hidden": true
   },
   "source": [
    "### Mix-N-Match"
   ]
  },
  {
   "cell_type": "code",
   "execution_count": 12,
   "metadata": {
    "collapsed": true,
    "hidden": true
   },
   "outputs": [],
   "source": [
    "# Reminder\n",
    "taste = \"good\"\n",
    "calories = 350"
   ]
  },
  {
   "cell_type": "code",
   "execution_count": 13,
   "metadata": {
    "collapsed": false,
    "hidden": true
   },
   "outputs": [
    {
     "name": "stdout",
     "output_type": "stream",
     "text": [
      "Order Salad\n"
     ]
    }
   ],
   "source": [
    "# Comparisons: Outcome?\n",
    "print(\"Eat\" if taste is 'good' and calories < 300 else \"Order Salad\")"
   ]
  },
  {
   "cell_type": "code",
   "execution_count": 14,
   "metadata": {
    "collapsed": false,
    "hidden": true
   },
   "outputs": [
    {
     "name": "stdout",
     "output_type": "stream",
     "text": [
      "Eat the Cheesecake!\n"
     ]
    }
   ],
   "source": [
    "# Arithmetic: What if Elsa exercises after?\n",
    "exercise = -200\n",
    "\n",
    "print(\"Eat the Cheesecake!\" if taste == 'good' and (calories + exercise) < 300 else \"Order Salad\")"
   ]
  },
  {
   "cell_type": "code",
   "execution_count": 16,
   "metadata": {
    "collapsed": false,
    "hidden": true
   },
   "outputs": [
    {
     "name": "stdout",
     "output_type": "stream",
     "text": [
      "Order Salad\n"
     ]
    }
   ],
   "source": [
    "# Update\n",
    "taste = \"good\"\n",
    "calories = 250\n",
    "\n",
    "# Membership: What if food tasts better than good?\n",
    "print(\"Eat\" if taste in ['awesome', 'delightful', 'delicious'] and calories < 300 else \"Order Salad\")"
   ]
  }
 ],
 "metadata": {
  "anaconda-cloud": {},
  "kernelspec": {
   "display_name": "Python [default]",
   "language": "python",
   "name": "python3"
  },
  "language_info": {
   "codemirror_mode": {
    "name": "ipython",
    "version": 3
   },
   "file_extension": ".py",
   "mimetype": "text/x-python",
   "name": "python",
   "nbconvert_exporter": "python",
   "pygments_lexer": "ipython3",
   "version": "3.5.2"
  },
  "toc": {
   "nav_menu": {
    "height": "12px",
    "width": "252px"
   },
   "navigate_menu": true,
   "number_sections": false,
   "sideBar": true,
   "threshold": 4,
   "toc_cell": false,
   "toc_position": {
    "height": "504px",
    "left": "0px",
    "right": "821px",
    "top": "107px",
    "width": "139px"
   },
   "toc_section_display": "block",
   "toc_window_display": true
  }
 },
 "nbformat": 4,
 "nbformat_minor": 1
}
